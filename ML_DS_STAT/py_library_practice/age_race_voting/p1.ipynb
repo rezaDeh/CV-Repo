{
  "nbformat": 4,
  "nbformat_minor": 0,
  "metadata": {
    "colab": {
      "name": "lab1.ipynb",
      "provenance": [],
      "collapsed_sections": []
    },
    "kernelspec": {
      "name": "python3",
      "display_name": "Python 3"
    }
  },
  "cells": [
    {
      "cell_type": "markdown",
      "metadata": {
        "id": "F-9YK-Qk-8Zz"
      },
      "source": [
        "# **Overview**\n",
        "\n",
        "\n",
        "*   What business problem are we trying to solve and why?\n",
        "> **Underestand the statistical difference (if any) that age and race have on voting, by seeing if there is any difference in average age of voters in different race groups.**\n",
        "*   Brief explanation of one-way ANOVA test (what is it, what are the assumptions, how would you interpret it).\n",
        "> **the one-way ANOVA tests whether the mean of some numeric variable differs across the levels of one catigorical variable (do any of the group means differ from one another). Inorder for the results of a oneway ANOVA test to be accurate, we assume that the responce variable residuals are normally distirbuted and variance of populations are equal. The ANOVA test does not indicate which group means are different, but it simply outputs the F-satistics and p-value of the analysis. From the p-value one can determine wheather the differences between some of the means are statistically significant.** \n",
        "*   What is the F-test and F-statistic?\n",
        "> **F-test: any statistical test in which the test statistic has an F-distirbution (used to test wheather two independent samples have been drawn for the normal population with the same varience) under the null hypothesis.**<br>\n",
        ">**F-statistic: The value outputed from a ANOVA test or a regression analysis to find out if the means between two populations are significantlly different.**\n",
        "*   Bonferroni correction definition.\n",
        "> **It is a multiple-comparison correction used when several dependent or independent statistical tests are being performed simultaneously. to account for the multiple comparisons problem that may end up rejecting results that are actually significant.**\n",
        "*   Why would you use Tukey’s test?\n",
        "> **The Turkey's HSD allows one to locate the differences indicated by an ANOVA test. It allows us to find out which specific group means (compared to one another) are different.**\n",
        "*   What are we doing in this assignment from dataset and objective perspective.\n",
        "> **The goal of the statistical tests was to see if there is any obsorved difference in average age of voters from different race groups.**\n"
      ]
    },
    {
      "cell_type": "code",
      "metadata": {
        "id": "oQwR0bIa6r_1"
      },
      "source": [
        "import numpy as np\n",
        "import pandas as pd\n",
        "import matplotlib.pyplot as plt\n",
        "import scipy.stats as stats\n",
        "from statsmodels.stats.multitest import multipletests"
      ],
      "execution_count": null,
      "outputs": []
    },
    {
      "cell_type": "code",
      "metadata": {
        "colab": {
          "base_uri": "https://localhost:8080/"
        },
        "id": "fbGGQp0d8CLi",
        "outputId": "b13ab924-4dee-438b-a3b5-c98dffefd5fd"
      },
      "source": [
        "np.random.seed(12)\n",
        "\n",
        "races =   [\"asian\",\"black\",\"hispanic\",\"other\",\"white\"]\n",
        "\n",
        "# Generate random data\n",
        "voter_race1 = np.random.choice(a= races,\n",
        "                              p = [0.05, 0.15 ,0.25, 0.05, 0.5],\n",
        "                              size=1000)\n",
        "\n",
        "voter_age1 = stats.poisson.rvs(loc=18,\n",
        "                              mu=30,\n",
        "                              size=1000)\n",
        "\n",
        "# Group age data by race\n",
        "voter_frame1 = pd.DataFrame({\"race\":voter_race1,\"age\":voter_age1})\n",
        "\n",
        "#EDA\n",
        "print(\"EDA on voter_frame1 (no significant difference):\")\n",
        "print(\"\\ndata frame's first five observations of the data:\")\n",
        "print(voter_frame1.head())\n",
        "print(\"\\nTotal number of rows(observations) and columns(characteristics):\")\n",
        "print(voter_frame1.shape)\n",
        "print(\"\\ncolums and their data types:\")\n",
        "print(voter_frame1.info())\n",
        "print(\"\\ndata frame summery:\")\n",
        "print(voter_frame1.describe())"
      ],
      "execution_count": null,
      "outputs": [
        {
          "output_type": "stream",
          "text": [
            "EDA on voter_frame1 (no significant difference):\n",
            "\n",
            "data frame's first five observations of the data:\n",
            "       race  age\n",
            "0     black   51\n",
            "1     white   49\n",
            "2  hispanic   51\n",
            "3     white   48\n",
            "4     asian   56\n",
            "\n",
            "Total number of rows(observations) and columns(characteristics):\n",
            "(1000, 2)\n",
            "\n",
            "colums and their data types:\n",
            "<class 'pandas.core.frame.DataFrame'>\n",
            "RangeIndex: 1000 entries, 0 to 999\n",
            "Data columns (total 2 columns):\n",
            " #   Column  Non-Null Count  Dtype \n",
            "---  ------  --------------  ----- \n",
            " 0   race    1000 non-null   object\n",
            " 1   age     1000 non-null   int64 \n",
            "dtypes: int64(1), object(1)\n",
            "memory usage: 15.8+ KB\n",
            "None\n",
            "\n",
            "data frame summery:\n",
            "               age\n",
            "count  1000.000000\n",
            "mean     47.773000\n",
            "std       5.308074\n",
            "min      34.000000\n",
            "25%      44.000000\n",
            "50%      48.000000\n",
            "75%      51.000000\n",
            "max      66.000000\n"
          ],
          "name": "stdout"
        }
      ]
    },
    {
      "cell_type": "code",
      "metadata": {
        "colab": {
          "base_uri": "https://localhost:8080/"
        },
        "id": "Ug-p7LXbOUYR",
        "outputId": "7bf3b21f-50aa-4936-ab33-66b658ebf88f"
      },
      "source": [
        "groups1 = voter_frame1.groupby(\"race\").groups\n",
        "\n",
        "# Etract individual groups\n",
        "asian = voter_age1[groups1[\"asian\"]]\n",
        "black = voter_age1[groups1[\"black\"]]\n",
        "hispanic = voter_age1[groups1[\"hispanic\"]]\n",
        "other = voter_age1[groups1[\"other\"]]\n",
        "white = voter_age1[groups1[\"white\"]]\n",
        "\n",
        "# Perform the ANOVA on data frame 1\n",
        "print(\"ANOVA test on voter_frame1:\")\n",
        "print(stats.f_oneway(asian, black, hispanic, other, white))"
      ],
      "execution_count": null,
      "outputs": [
        {
          "output_type": "stream",
          "text": [
            "ANOVA test on voter_frame1:\n",
            "F_onewayResult(statistic=1.7744689357329695, pvalue=0.13173183201930463)\n"
          ],
          "name": "stdout"
        }
      ]
    },
    {
      "cell_type": "markdown",
      "metadata": {
        "id": "XiqmJpKAjt9Q"
      },
      "source": [
        "**Since the P value from the ANOVA test on voter_frame1 is above 0.05 significance level we can assue that there is no significant difference in mean age of voters from different race groups.** "
      ]
    },
    {
      "cell_type": "code",
      "metadata": {
        "colab": {
          "base_uri": "https://localhost:8080/"
        },
        "id": "52uCp-S_Suh3",
        "outputId": "08531222-caa0-4ed0-a27c-ca0e73de66c1"
      },
      "source": [
        "# Get all race pairs\n",
        "race_pairs1 = []\n",
        "\n",
        "for race11 in range(4):\n",
        "    for race12  in range(race11+1,5):\n",
        "        race_pairs1.append((races[race11], races[race12]))\n",
        "\n",
        "pvals1 = []\n",
        "# Conduct t-test on each pair with bonferroni correction\n",
        "print(\"T test on on each pair on voter_frame1:\\n\")\n",
        "for race11, race12 in race_pairs1: \n",
        "    print(race11, race12)\n",
        "    t_test1 = stats.ttest_ind(voter_age1[groups1[race11]], \n",
        "                          voter_age1[groups1[race12]])\n",
        "    print(t_test1)\n",
        "    pvals1.append(t_test1.pvalue)\n",
        "    print(\"\\n\")\n",
        "\n",
        "print(\"bonferroni correction on p-values obtained from T tests on voter_frame1:\")\n",
        "bonferroni1 = multipletests(pvals1, alpha=.05, method='bonferroni', is_sorted=True)\n",
        "\n",
        "i = 0 \n",
        "for race11, race12 in race_pairs1: \n",
        "    print(race11, race12)\n",
        "    print(\"NULL Hypothesis rejected?             \", bonferroni1[0][i])\n",
        "    print(\"Corrected P values for multiple test: \", bonferroni1[1][i], \"\\n\")\n",
        "    i += 1\n",
        "print(\"Corrected alpha after bonferroni:     \", bonferroni1[2])\n",
        "\n",
        "\n",
        "        "
      ],
      "execution_count": null,
      "outputs": [
        {
          "output_type": "stream",
          "text": [
            "T test on on each pair on voter_frame1:\n",
            "\n",
            "asian black\n",
            "Ttest_indResult(statistic=1.4723166654510063, pvalue=0.14259864916065687)\n",
            "\n",
            "\n",
            "asian hispanic\n",
            "Ttest_indResult(statistic=0.7952576949464497, pvalue=0.42712310624411387)\n",
            "\n",
            "\n",
            "asian other\n",
            "Ttest_indResult(statistic=0.023943564194904926, pvalue=0.9809494819541007)\n",
            "\n",
            "\n",
            "asian white\n",
            "Ttest_indResult(statistic=1.7847665455760953, pvalue=0.07484331440702094)\n",
            "\n",
            "\n",
            "black hispanic\n",
            "Ttest_indResult(statistic=-0.9779887872139286, pvalue=0.328687679434698)\n",
            "\n",
            "\n",
            "black other\n",
            "Ttest_indResult(statistic=-1.537940275215305, pvalue=0.12568427083007871)\n",
            "\n",
            "\n",
            "black white\n",
            "Ttest_indResult(statistic=0.1754225782292794, pvalue=0.860801405242227)\n",
            "\n",
            "\n",
            "hispanic other\n",
            "Ttest_indResult(statistic=-0.8181367221979297, pvalue=0.41394624196541574)\n",
            "\n",
            "\n",
            "hispanic white\n",
            "Ttest_indResult(statistic=1.5959271355589721, pvalue=0.11092241932285327)\n",
            "\n",
            "\n",
            "other white\n",
            "Ttest_indResult(statistic=1.866874647450789, pvalue=0.06243863321791571)\n",
            "\n",
            "\n",
            "bonferroni correction on p-values obtained from T tests on voter_frame1:\n",
            "asian black\n",
            "NULL Hypothesis rejected?              False\n",
            "Corrected P values for multiple test:  1.0 \n",
            "\n",
            "asian hispanic\n",
            "NULL Hypothesis rejected?              False\n",
            "Corrected P values for multiple test:  1.0 \n",
            "\n",
            "asian other\n",
            "NULL Hypothesis rejected?              False\n",
            "Corrected P values for multiple test:  1.0 \n",
            "\n",
            "asian white\n",
            "NULL Hypothesis rejected?              False\n",
            "Corrected P values for multiple test:  0.7484331440702094 \n",
            "\n",
            "black hispanic\n",
            "NULL Hypothesis rejected?              False\n",
            "Corrected P values for multiple test:  1.0 \n",
            "\n",
            "black other\n",
            "NULL Hypothesis rejected?              False\n",
            "Corrected P values for multiple test:  1.0 \n",
            "\n",
            "black white\n",
            "NULL Hypothesis rejected?              False\n",
            "Corrected P values for multiple test:  1.0 \n",
            "\n",
            "hispanic other\n",
            "NULL Hypothesis rejected?              False\n",
            "Corrected P values for multiple test:  1.0 \n",
            "\n",
            "hispanic white\n",
            "NULL Hypothesis rejected?              False\n",
            "Corrected P values for multiple test:  1.0 \n",
            "\n",
            "other white\n",
            "NULL Hypothesis rejected?              False\n",
            "Corrected P values for multiple test:  0.6243863321791571 \n",
            "\n",
            "Corrected alpha after bonferroni:      0.005116196891823743\n"
          ],
          "name": "stdout"
        }
      ]
    },
    {
      "cell_type": "markdown",
      "metadata": {
        "id": "R41NG8DyooB1"
      },
      "source": [
        "**Our results from the ANOVA test on voter_frame 1 is confirmed. Using the T test and the Bonferroni test, we can see that there is no significant difference in P values of race group pairs and the NULL Hypothesis is not rejected on any of the pairs.** "
      ]
    },
    {
      "cell_type": "code",
      "metadata": {
        "colab": {
          "base_uri": "https://localhost:8080/",
          "height": 657
        },
        "id": "B9AkHxNYNQWe",
        "outputId": "65aee335-261c-47d7-9f9c-e75577b7d8f4"
      },
      "source": [
        "from statsmodels.stats.multicomp import pairwise_tukeyhsd\n",
        "\n",
        "tukey1 = pairwise_tukeyhsd(endog=voter_age1,     # Data\n",
        "                          groups=voter_race1,   # Groups\n",
        "                          alpha=0.05)          # Significance level\n",
        "\n",
        "tukey1.plot_simultaneous()    # Plot group confidence intervals\n",
        "plt.vlines(x=49.57,ymin=-0.5,ymax=4.5, color=\"red\")\n",
        "\n",
        "print(\"Tukey test on voter_frame1\")\n",
        "tukey1.summary()              # See test summary"
      ],
      "execution_count": null,
      "outputs": [
        {
          "output_type": "stream",
          "text": [
            "Tukey test on voter_frame1\n"
          ],
          "name": "stdout"
        },
        {
          "output_type": "execute_result",
          "data": {
            "text/html": [
              "<table class=\"simpletable\">\n",
              "<caption>Multiple Comparison of Means - Tukey HSD, FWER=0.05</caption>\n",
              "<tr>\n",
              "   <th>group1</th>   <th>group2</th>  <th>meandiff</th>  <th>p-adj</th>  <th>lower</th>   <th>upper</th> <th>reject</th>\n",
              "</tr>\n",
              "<tr>\n",
              "    <td>asian</td>    <td>black</td>   <td>-1.3353</td> <td>0.5735</td> <td>-3.8242</td> <td>1.1535</td>  <td>False</td>\n",
              "</tr>\n",
              "<tr>\n",
              "    <td>asian</td>  <td>hispanic</td>  <td>-0.7593</td>   <td>0.9</td>  <td>-3.1315</td> <td>1.6129</td>  <td>False</td>\n",
              "</tr>\n",
              "<tr>\n",
              "    <td>asian</td>    <td>other</td>   <td>-0.0264</td>   <td>0.9</td>  <td>-3.0202</td> <td>2.9674</td>  <td>False</td>\n",
              "</tr>\n",
              "<tr>\n",
              "    <td>asian</td>    <td>white</td>   <td>-1.4184</td> <td>0.4336</td> <td>-3.6932</td> <td>0.8564</td>  <td>False</td>\n",
              "</tr>\n",
              "<tr>\n",
              "    <td>black</td>  <td>hispanic</td>   <td>0.576</td>  <td>0.8145</td> <td>-0.9362</td> <td>2.0882</td>  <td>False</td>\n",
              "</tr>\n",
              "<tr>\n",
              "    <td>black</td>    <td>other</td>    <td>1.309</td>  <td>0.5494</td> <td>-1.0622</td> <td>3.6801</td>  <td>False</td>\n",
              "</tr>\n",
              "<tr>\n",
              "    <td>black</td>    <td>white</td>   <td>-0.0831</td>   <td>0.9</td>  <td>-1.4374</td> <td>1.2713</td>  <td>False</td>\n",
              "</tr>\n",
              "<tr>\n",
              "  <td>hispanic</td>   <td>other</td>    <td>0.733</td>  <td>0.8996</td> <td>-1.5154</td> <td>2.9813</td>  <td>False</td>\n",
              "</tr>\n",
              "<tr>\n",
              "  <td>hispanic</td>   <td>white</td>   <td>-0.6591</td> <td>0.4974</td> <td>-1.7847</td> <td>0.4665</td>  <td>False</td>\n",
              "</tr>\n",
              "<tr>\n",
              "    <td>other</td>    <td>white</td>   <td>-1.392</td>  <td>0.3912</td> <td>-3.5374</td> <td>0.7533</td>  <td>False</td>\n",
              "</tr>\n",
              "</table>"
            ],
            "text/plain": [
              "<class 'statsmodels.iolib.table.SimpleTable'>"
            ]
          },
          "metadata": {
            "tags": []
          },
          "execution_count": 18
        },
        {
          "output_type": "display_data",
          "data": {
            "image/png": "[encoded data removed]",
            "text/plain": [
              "<Figure size 720x432 with 1 Axes>"
            ]
          },
          "metadata": {
            "tags": [],
            "needs_background": "light"
          }
        }
      ]
    },
    {
      "cell_type": "markdown",
      "metadata": {
        "id": "_ppwXT0np9dH"
      },
      "source": [
        "**More over, using the Tukey test we can see that NULL Hypothesis is not rejected on any of the pairs of race groups. From the Multicomparison plot we can see that all of the confidence intervals and means are on the right side of the threshhold (red line).** "
      ]
    },
    {
      "cell_type": "code",
      "metadata": {
        "colab": {
          "base_uri": "https://localhost:8080/"
        },
        "id": "CT_apWAJ8Erp",
        "outputId": "5a66a6a0-e401-4a4b-f647-8999a6493e84"
      },
      "source": [
        "np.random.seed(12)\n",
        "\n",
        "# Generate random data\n",
        "voter_race = np.random.choice(a= races,\n",
        "                              p = [0.05, 0.15 ,0.25, 0.05, 0.5],\n",
        "                              size=1000)\n",
        "\n",
        "# Use a different distribution for white ages\n",
        "white_ages = stats.poisson.rvs(loc=18, \n",
        "                              mu=32,\n",
        "                              size=1000)\n",
        "\n",
        "voter_age = stats.poisson.rvs(loc=18,\n",
        "                              mu=30,\n",
        "                              size=1000)\n",
        "\n",
        "voter_age = np.where(voter_race==\"white\", white_ages, voter_age)\n",
        "\n",
        "# Group age data by race\n",
        "voter_frame2 = pd.DataFrame({\"race\":voter_race,\"age\":voter_age})\n",
        "\n",
        "#EDA\n",
        "print(\"EDA on voter_frame2 (significant difference):\")\n",
        "print(\"\\ndata frame's first five observations of the data:\")\n",
        "print(voter_frame2.head())\n",
        "print(\"\\nTotal number of rows(observations) and columns(characteristics):\")\n",
        "print(voter_frame2.shape)\n",
        "print(\"\\ncolums and their data types:\")\n",
        "print(voter_frame2.info())\n",
        "print(\"\\ndata frame summery:\")\n",
        "print(voter_frame2.describe())\n"
      ],
      "execution_count": null,
      "outputs": [
        {
          "output_type": "stream",
          "text": [
            "EDA on voter_frame2 (significant difference):\n",
            "\n",
            "data frame's first five observations of the data:\n",
            "       race  age\n",
            "0     black   54\n",
            "1     white   51\n",
            "2  hispanic   53\n",
            "3     white   50\n",
            "4     asian   51\n",
            "\n",
            "Total number of rows(observations) and columns(characteristics):\n",
            "(1000, 2)\n",
            "\n",
            "colums and their data types:\n",
            "<class 'pandas.core.frame.DataFrame'>\n",
            "RangeIndex: 1000 entries, 0 to 999\n",
            "Data columns (total 2 columns):\n",
            " #   Column  Non-Null Count  Dtype \n",
            "---  ------  --------------  ----- \n",
            " 0   race    1000 non-null   object\n",
            " 1   age     1000 non-null   int64 \n",
            "dtypes: int64(1), object(1)\n",
            "memory usage: 15.8+ KB\n",
            "None\n",
            "\n",
            "data frame summery:\n",
            "              age\n",
            "count  1000.00000\n",
            "mean     49.14100\n",
            "std       5.72205\n",
            "min      29.00000\n",
            "25%      45.00000\n",
            "50%      49.00000\n",
            "75%      53.00000\n",
            "max      72.00000\n"
          ],
          "name": "stdout"
        }
      ]
    },
    {
      "cell_type": "code",
      "metadata": {
        "colab": {
          "base_uri": "https://localhost:8080/"
        },
        "id": "wo5vjxuQRVUo",
        "outputId": "7b2df951-8e9c-43dd-e39f-5c650a48ad3c"
      },
      "source": [
        "groups = voter_frame2.groupby(\"race\").groups   \n",
        "\n",
        "# Extract individual groups\n",
        "asian = voter_age[groups[\"asian\"]]\n",
        "black = voter_age[groups[\"black\"]]\n",
        "hispanic = voter_age[groups[\"hispanic\"]]\n",
        "other = voter_age[groups[\"other\"]]\n",
        "white = voter_age[groups[\"white\"]]\n",
        "\n",
        "# Perform the ANOVA\n",
        "print(\"ANOVA test on voter_frame2:\")\n",
        "print(stats.f_oneway(asian, black, hispanic, other, white))"
      ],
      "execution_count": null,
      "outputs": [
        {
          "output_type": "stream",
          "text": [
            "ANOVA test on voter_frame2:\n",
            "F_onewayResult(statistic=10.164699828386366, pvalue=4.5613242113994585e-08)\n"
          ],
          "name": "stdout"
        }
      ]
    },
    {
      "cell_type": "markdown",
      "metadata": {
        "id": "LYEOWRbiwwz4"
      },
      "source": [
        "**Since the P value from the ANOVA test on voter_frame2 is above 0.05 significance level we can assue that there is a significant difference in mean age of voters from different race groups.**"
      ]
    },
    {
      "cell_type": "code",
      "metadata": {
        "colab": {
          "base_uri": "https://localhost:8080/"
        },
        "id": "i3LwcjtW8Hu4",
        "outputId": "97a98e40-298e-4b59-e8fd-5f6a25e94952"
      },
      "source": [
        "# Get all race pairs\n",
        "race_pairs = []\n",
        "\n",
        "for race1 in range(4):\n",
        "    for race2  in range(race1+1,5):\n",
        "        race_pairs.append((races[race1], races[race2]))\n",
        "\n",
        "pvals = []\n",
        "# Conduct t-test on each pair with bonferroni correction\n",
        "print(\"T test on on each pair on voter_frame2:\\n\")\n",
        "for race1, race2 in race_pairs: \n",
        "    print(race1, race2)\n",
        "    t_test = stats.ttest_ind(voter_age[groups[race1]], \n",
        "                          voter_age[groups[race2]])\n",
        "    print(t_test)\n",
        "    pvals.append(t_test.pvalue)\n",
        "    print(\"\\n\")\n",
        "\n",
        "print(\"bonferroni correction on p-values obtained from T tests on voter_frame2:\")\n",
        "bonferroni = multipletests(pvals, alpha=.05, method='bonferroni', is_sorted=True)\n",
        "\n",
        "i = 0 \n",
        "for race1, race2 in race_pairs: \n",
        "    print(race1, race2)\n",
        "    print(\"NULL Hypothesis rejected?             \", bonferroni[0][i])\n",
        "    print(\"Corrected P values for multiple test: \", bonferroni[1][i], \"\\n\")\n",
        "    i += 1\n",
        "print(\"Corrected alpha after bonferroni:     \", bonferroni[2])\n",
        "  "
      ],
      "execution_count": null,
      "outputs": [
        {
          "output_type": "stream",
          "text": [
            "T test on on each pair on voter_frame2:\n",
            "\n",
            "asian black\n",
            "Ttest_indResult(statistic=0.838644690974798, pvalue=0.4027281369339345)\n",
            "\n",
            "\n",
            "asian hispanic\n",
            "Ttest_indResult(statistic=-0.42594691924932293, pvalue=0.6704669004240726)\n",
            "\n",
            "\n",
            "asian other\n",
            "Ttest_indResult(statistic=0.9795284739636, pvalue=0.3298877500095151)\n",
            "\n",
            "\n",
            "asian white\n",
            "Ttest_indResult(statistic=-2.318108811252288, pvalue=0.020804701566400217)\n",
            "\n",
            "\n",
            "black hispanic\n",
            "Ttest_indResult(statistic=-1.9527839210712925, pvalue=0.05156197171952594)\n",
            "\n",
            "\n",
            "black other\n",
            "Ttest_indResult(statistic=0.28025754367057176, pvalue=0.7795770111117659)\n",
            "\n",
            "\n",
            "black white\n",
            "Ttest_indResult(statistic=-5.379303881281835, pvalue=1.039421216662395e-07)\n",
            "\n",
            "\n",
            "hispanic other\n",
            "Ttest_indResult(statistic=1.5853626170340225, pvalue=0.11396630528484335)\n",
            "\n",
            "\n",
            "hispanic white\n",
            "Ttest_indResult(statistic=-3.5160312714115376, pvalue=0.0004641298649066684)\n",
            "\n",
            "\n",
            "other white\n",
            "Ttest_indResult(statistic=-3.763809322077872, pvalue=0.00018490576317593065)\n",
            "\n",
            "\n",
            "bonferroni correction on p-values obtained from T tests on voter_frame2:\n",
            "asian black\n",
            "NULL Hypothesis rejected?              False\n",
            "Corrected P values for multiple test:  1.0 \n",
            "\n",
            "asian hispanic\n",
            "NULL Hypothesis rejected?              False\n",
            "Corrected P values for multiple test:  1.0 \n",
            "\n",
            "asian other\n",
            "NULL Hypothesis rejected?              False\n",
            "Corrected P values for multiple test:  1.0 \n",
            "\n",
            "asian white\n",
            "NULL Hypothesis rejected?              False\n",
            "Corrected P values for multiple test:  0.20804701566400216 \n",
            "\n",
            "black hispanic\n",
            "NULL Hypothesis rejected?              False\n",
            "Corrected P values for multiple test:  0.5156197171952593 \n",
            "\n",
            "black other\n",
            "NULL Hypothesis rejected?              False\n",
            "Corrected P values for multiple test:  1.0 \n",
            "\n",
            "black white\n",
            "NULL Hypothesis rejected?              True\n",
            "Corrected P values for multiple test:  1.039421216662395e-06 \n",
            "\n",
            "hispanic other\n",
            "NULL Hypothesis rejected?              False\n",
            "Corrected P values for multiple test:  1.0 \n",
            "\n",
            "hispanic white\n",
            "NULL Hypothesis rejected?              True\n",
            "Corrected P values for multiple test:  0.004641298649066684 \n",
            "\n",
            "other white\n",
            "NULL Hypothesis rejected?              True\n",
            "Corrected P values for multiple test:  0.0018490576317593064 \n",
            "\n",
            "Corrected alpha after bonferroni:      0.005116196891823743\n"
          ],
          "name": "stdout"
        }
      ]
    },
    {
      "cell_type": "markdown",
      "metadata": {
        "id": "ECuOsLJzxAgc"
      },
      "source": [
        "**Our result from the ANOVA test on voter_frame 2 is confirmed. Using the T test and the Bonferroni test, as we can see that there is significant difference in P values of race group pairs and the NULL Hypothesis is rejected for pairs where one of there race groups is white (expect for asian vs white, which explained more in the next section).**"
      ]
    },
    {
      "cell_type": "code",
      "metadata": {
        "colab": {
          "base_uri": "https://localhost:8080/",
          "height": 640
        },
        "id": "MThApiVM8Lco",
        "outputId": "32206252-1e3d-4589-de13-1d4ce36107f3"
      },
      "source": [
        "from statsmodels.stats.multicomp import pairwise_tukeyhsd\n",
        "\n",
        "tukey = pairwise_tukeyhsd(endog=voter_age,     # Data\n",
        "                          groups=voter_race,   # Groups\n",
        "                          alpha=0.05)          # Significance level\n",
        "\n",
        "tukey.plot_simultaneous()    # Plot group confidence intervals\n",
        "plt.vlines(x=49.57,ymin=-0.5,ymax=4.5, color=\"red\")\n",
        "\n",
        "tukey.summary()              # See test summary"
      ],
      "execution_count": null,
      "outputs": [
        {
          "output_type": "execute_result",
          "data": {
            "text/html": [
              "<table class=\"simpletable\">\n",
              "<caption>Multiple Comparison of Means - Tukey HSD, FWER=0.05</caption>\n",
              "<tr>\n",
              "   <th>group1</th>   <th>group2</th>  <th>meandiff</th>  <th>p-adj</th>  <th>lower</th>   <th>upper</th> <th>reject</th>\n",
              "</tr>\n",
              "<tr>\n",
              "    <td>asian</td>    <td>black</td>   <td>-0.8032</td>   <td>0.9</td>  <td>-3.4423</td>  <td>1.836</td>  <td>False</td>\n",
              "</tr>\n",
              "<tr>\n",
              "    <td>asian</td>  <td>hispanic</td>  <td>0.4143</td>    <td>0.9</td>  <td>-2.1011</td> <td>2.9297</td>  <td>False</td>\n",
              "</tr>\n",
              "<tr>\n",
              "    <td>asian</td>    <td>other</td>   <td>-1.0645</td> <td>0.8852</td> <td>-4.2391</td>  <td>2.11</td>   <td>False</td>\n",
              "</tr>\n",
              "<tr>\n",
              "    <td>asian</td>    <td>white</td>   <td>1.9547</td>   <td>0.175</td> <td>-0.4575</td> <td>4.3668</td>  <td>False</td>\n",
              "</tr>\n",
              "<tr>\n",
              "    <td>black</td>  <td>hispanic</td>  <td>1.2175</td>  <td>0.2318</td> <td>-0.386</td>   <td>2.821</td>  <td>False</td>\n",
              "</tr>\n",
              "<tr>\n",
              "    <td>black</td>    <td>other</td>   <td>-0.2614</td>   <td>0.9</td>  <td>-2.7757</td>  <td>2.253</td>  <td>False</td>\n",
              "</tr>\n",
              "<tr>\n",
              "    <td>black</td>    <td>white</td>   <td>2.7579</td>   <td>0.001</td> <td>1.3217</td>   <td>4.194</td>  <td>True</td> \n",
              "</tr>\n",
              "<tr>\n",
              "  <td>hispanic</td>   <td>other</td>   <td>-1.4789</td> <td>0.4391</td> <td>-3.863</td>  <td>0.9053</td>  <td>False</td>\n",
              "</tr>\n",
              "<tr>\n",
              "  <td>hispanic</td>   <td>white</td>   <td>1.5404</td>   <td>0.004</td> <td>0.3468</td>   <td>2.734</td>  <td>True</td> \n",
              "</tr>\n",
              "<tr>\n",
              "    <td>other</td>    <td>white</td>   <td>3.0192</td>  <td>0.0028</td> <td>0.7443</td>  <td>5.2941</td>  <td>True</td> \n",
              "</tr>\n",
              "</table>"
            ],
            "text/plain": [
              "<class 'statsmodels.iolib.table.SimpleTable'>"
            ]
          },
          "metadata": {
            "tags": []
          },
          "execution_count": 22
        },
        {
          "output_type": "display_data",
          "data": {
            "image/png": "[encoded data removed]",
            "text/plain": [
              "<Figure size 720x432 with 1 Axes>"
            ]
          },
          "metadata": {
            "tags": [],
            "needs_background": "light"
          }
        }
      ]
    },
    {
      "cell_type": "markdown",
      "metadata": {
        "id": "_NL9iQHgyfXx"
      },
      "source": [
        "**More over, using the Tukey test we can see that NULL Hypothesis is rejected on most groups consisting the white race group as one of the pairs. From the Multicomparison plot we can see that there is overlap between asain and white race which explains why the NULL hypothesis was not rejected for that comparison.** "
      ]
    },
    {
      "cell_type": "markdown",
      "metadata": {
        "id": "DoQFqRQ8ryIV"
      },
      "source": [
        "# **Conclusion**\n",
        "**From the models obtained from both data sets we were not supprized to see that there was no statistically significant difference in the average age of voters in different race groups based on data frame 1. Even though the rest of the tests (T-test, Bonferroni, and Tukey) were not necessary, our acceptence of the H0 was reinforced by their results. For data frame 2 Since we had intentially set up the sudo data to have a different average age for the white race group, we saw from the ANOVA test that the pvalue was lower than the significance level and H0 was rejected. Then we furthur explored to see exactly which two race group pairs have significantly different average ages using the T-test, Bonferroni, and Tukey and we obtained that the groups containing the white group resulted in different age average. We were able to solve the problem we had set which was to find out if there was any significant difference in average age of different race groups.**"
      ]
    }
  ]
}
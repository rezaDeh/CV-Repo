{
  "nbformat": 4,
  "nbformat_minor": 0,
  "metadata": {
    "colab": {
      "name": "lab4.ipynb",
      "provenance": [],
      "collapsed_sections": []
    },
    "kernelspec": {
      "name": "python3",
      "display_name": "Python 3"
    }
  },
  "cells": [
    {
      "cell_type": "markdown",
      "metadata": {
        "id": "pf20vI2VkG6W"
      },
      "source": [
        "#**Reza Dehkordi**\n",
        "#**02-14-2021**"
      ]
    },
    {
      "cell_type": "markdown",
      "metadata": {
        "id": "ERdZRoMTklh8"
      },
      "source": [
        "# **I. OVERVIEW**\n",
        "The goal of this statistical analysis is to explore a data regarding diabetes progression and the relationship to different attirbutes. We also want to see, using which one of the independent variables can result to best linear regression model to the provided data. \n",
        "\n",
        "The data is extracted from the diabetes dataset of sklearn library( breif description: https://www4.stat.ncsu.edu/~boos/var.select/diabetes.html).\n",
        "Some code used in this notebook has been aquired from the Exercise4 of INET 4061 course as well as from Jaques Grobler License: BSD 3 clause.\n"
      ]
    },
    {
      "cell_type": "code",
      "metadata": {
        "id": "K5THH4Jhm-WL"
      },
      "source": [
        ""
      ],
      "execution_count": null,
      "outputs": []
    },
    {
      "cell_type": "markdown",
      "metadata": {
        "id": "KPpPaat3Ep7L"
      },
      "source": [
        "# **II. Data**\n"
      ]
    },
    {
      "cell_type": "code",
      "metadata": {
        "id": "oTZfUY_A8-63"
      },
      "source": [
        "import matplotlib.pyplot as plt\n",
        "import numpy as np\n",
        "from sklearn import datasets, linear_model\n",
        "from sklearn.metrics import mean_squared_error, r2_score\n",
        "import pandas as pd\n",
        "import statsmodels.api as sm\n"
      ],
      "execution_count": null,
      "outputs": []
    },
    {
      "cell_type": "code",
      "metadata": {
        "id": "qsgEpHRo9Gpg",
        "colab": {
          "base_uri": "https://localhost:8080/"
        },
        "outputId": "2f6367c4-5209-46c8-aa7f-1307af310475"
      },
      "source": [
        "diabetes = datasets.load_diabetes()\n",
        "df = pd.DataFrame(diabetes.data, columns=diabetes.feature_names)\n",
        "# converting dataset to pandas dataframe\n",
        "print('The following is the information provided regarding specific aspects of the data:\\n')\n",
        "print(diabetes.DESCR)\n"
      ],
      "execution_count": null,
      "outputs": [
        {
          "output_type": "stream",
          "text": [
            "The following is the information provided regarding specific aspects of the data:\n",
            "\n",
            ".. _diabetes_dataset:\n",
            "\n",
            "Diabetes dataset\n",
            "----------------\n",
            "\n",
            "Ten baseline variables, age, sex, body mass index, average blood\n",
            "pressure, and six blood serum measurements were obtained for each of n =\n",
            "442 diabetes patients, as well as the response of interest, a\n",
            "quantitative measure of disease progression one year after baseline.\n",
            "\n",
            "**Data Set Characteristics:**\n",
            "\n",
            "  :Number of Instances: 442\n",
            "\n",
            "  :Number of Attributes: First 10 columns are numeric predictive values\n",
            "\n",
            "  :Target: Column 11 is a quantitative measure of disease progression one year after baseline\n",
            "\n",
            "  :Attribute Information:\n",
            "      - Age\n",
            "      - Sex\n",
            "      - Body mass index\n",
            "      - Average blood pressure\n",
            "      - S1\n",
            "      - S2\n",
            "      - S3\n",
            "      - S4\n",
            "      - S5\n",
            "      - S6\n",
            "\n",
            "Note: Each of these 10 feature variables have been mean centered and scaled by the standard deviation times `n_samples` (i.e. the sum of squares of each column totals 1).\n",
            "\n",
            "Source URL:\n",
            "https://www4.stat.ncsu.edu/~boos/var.select/diabetes.html\n",
            "\n",
            "For more information see:\n",
            "Bradley Efron, Trevor Hastie, Iain Johnstone and Robert Tibshirani (2004) \"Least Angle Regression,\" Annals of Statistics (with discussion), 407-499.\n",
            "(https://web.stanford.edu/~hastie/Papers/LARS/LeastAngle_2002.pdf)\n"
          ],
          "name": "stdout"
        }
      ]
    },
    {
      "cell_type": "markdown",
      "metadata": {
        "id": "7l6RJg8aBFe1"
      },
      "source": [
        "#**III. Exploratory Data Analysis**"
      ]
    },
    {
      "cell_type": "code",
      "metadata": {
        "colab": {
          "base_uri": "https://localhost:8080/"
        },
        "id": "dY_j6bITAKx3",
        "outputId": "012cab0a-ae01-4aab-9124-ea73d6b80a46"
      },
      "source": [
        "# Perform EDA:\n",
        "print(\"shape: \")\n",
        "print(df.shape)\n",
        "print(\"\\ncheck missing values per each attirbute:\")\n",
        "print(df.isnull().sum() )\n"
      ],
      "execution_count": null,
      "outputs": [
        {
          "output_type": "stream",
          "text": [
            "shape: \n",
            "(442, 10)\n",
            "\n",
            "check missing values per each attirbute:\n",
            "age    0\n",
            "sex    0\n",
            "bmi    0\n",
            "bp     0\n",
            "s1     0\n",
            "s2     0\n",
            "s3     0\n",
            "s4     0\n",
            "s5     0\n",
            "s6     0\n",
            "dtype: int64\n"
          ],
          "name": "stdout"
        }
      ]
    },
    {
      "cell_type": "code",
      "metadata": {
        "colab": {
          "base_uri": "https://localhost:8080/",
          "height": 314
        },
        "id": "IfaiYRhUv7YF",
        "outputId": "289d9b4e-0041-493c-c483-b83b91391770"
      },
      "source": [
        "print(\"Summary for numeric independent variables:\")\n",
        "df.describe()"
      ],
      "execution_count": null,
      "outputs": [
        {
          "output_type": "stream",
          "text": [
            "Summary for numeric independent variables:\n"
          ],
          "name": "stdout"
        },
        {
          "output_type": "execute_result",
          "data": {
            "text/html": [
              "<div>\n",
              "<style scoped>\n",
              "    .dataframe tbody tr th:only-of-type {\n",
              "        vertical-align: middle;\n",
              "    }\n",
              "\n",
              "    .dataframe tbody tr th {\n",
              "        vertical-align: top;\n",
              "    }\n",
              "\n",
              "    .dataframe thead th {\n",
              "        text-align: right;\n",
              "    }\n",
              "</style>\n",
              "<table border=\"1\" class=\"dataframe\">\n",
              "  <thead>\n",
              "    <tr style=\"text-align: right;\">\n",
              "      <th></th>\n",
              "      <th>age</th>\n",
              "      <th>sex</th>\n",
              "      <th>bmi</th>\n",
              "      <th>bp</th>\n",
              "      <th>s1</th>\n",
              "      <th>s2</th>\n",
              "      <th>s3</th>\n",
              "      <th>s4</th>\n",
              "      <th>s5</th>\n",
              "      <th>s6</th>\n",
              "    </tr>\n",
              "  </thead>\n",
              "  <tbody>\n",
              "    <tr>\n",
              "      <th>count</th>\n",
              "      <td>4.420000e+02</td>\n",
              "      <td>4.420000e+02</td>\n",
              "      <td>4.420000e+02</td>\n",
              "      <td>4.420000e+02</td>\n",
              "      <td>4.420000e+02</td>\n",
              "      <td>4.420000e+02</td>\n",
              "      <td>4.420000e+02</td>\n",
              "      <td>4.420000e+02</td>\n",
              "      <td>4.420000e+02</td>\n",
              "      <td>4.420000e+02</td>\n",
              "    </tr>\n",
              "    <tr>\n",
              "      <th>mean</th>\n",
              "      <td>-3.634285e-16</td>\n",
              "      <td>1.308343e-16</td>\n",
              "      <td>-8.045349e-16</td>\n",
              "      <td>1.281655e-16</td>\n",
              "      <td>-8.835316e-17</td>\n",
              "      <td>1.327024e-16</td>\n",
              "      <td>-4.574646e-16</td>\n",
              "      <td>3.777301e-16</td>\n",
              "      <td>-3.830854e-16</td>\n",
              "      <td>-3.412882e-16</td>\n",
              "    </tr>\n",
              "    <tr>\n",
              "      <th>std</th>\n",
              "      <td>4.761905e-02</td>\n",
              "      <td>4.761905e-02</td>\n",
              "      <td>4.761905e-02</td>\n",
              "      <td>4.761905e-02</td>\n",
              "      <td>4.761905e-02</td>\n",
              "      <td>4.761905e-02</td>\n",
              "      <td>4.761905e-02</td>\n",
              "      <td>4.761905e-02</td>\n",
              "      <td>4.761905e-02</td>\n",
              "      <td>4.761905e-02</td>\n",
              "    </tr>\n",
              "    <tr>\n",
              "      <th>min</th>\n",
              "      <td>-1.072256e-01</td>\n",
              "      <td>-4.464164e-02</td>\n",
              "      <td>-9.027530e-02</td>\n",
              "      <td>-1.123996e-01</td>\n",
              "      <td>-1.267807e-01</td>\n",
              "      <td>-1.156131e-01</td>\n",
              "      <td>-1.023071e-01</td>\n",
              "      <td>-7.639450e-02</td>\n",
              "      <td>-1.260974e-01</td>\n",
              "      <td>-1.377672e-01</td>\n",
              "    </tr>\n",
              "    <tr>\n",
              "      <th>25%</th>\n",
              "      <td>-3.729927e-02</td>\n",
              "      <td>-4.464164e-02</td>\n",
              "      <td>-3.422907e-02</td>\n",
              "      <td>-3.665645e-02</td>\n",
              "      <td>-3.424784e-02</td>\n",
              "      <td>-3.035840e-02</td>\n",
              "      <td>-3.511716e-02</td>\n",
              "      <td>-3.949338e-02</td>\n",
              "      <td>-3.324879e-02</td>\n",
              "      <td>-3.317903e-02</td>\n",
              "    </tr>\n",
              "    <tr>\n",
              "      <th>50%</th>\n",
              "      <td>5.383060e-03</td>\n",
              "      <td>-4.464164e-02</td>\n",
              "      <td>-7.283766e-03</td>\n",
              "      <td>-5.670611e-03</td>\n",
              "      <td>-4.320866e-03</td>\n",
              "      <td>-3.819065e-03</td>\n",
              "      <td>-6.584468e-03</td>\n",
              "      <td>-2.592262e-03</td>\n",
              "      <td>-1.947634e-03</td>\n",
              "      <td>-1.077698e-03</td>\n",
              "    </tr>\n",
              "    <tr>\n",
              "      <th>75%</th>\n",
              "      <td>3.807591e-02</td>\n",
              "      <td>5.068012e-02</td>\n",
              "      <td>3.124802e-02</td>\n",
              "      <td>3.564384e-02</td>\n",
              "      <td>2.835801e-02</td>\n",
              "      <td>2.984439e-02</td>\n",
              "      <td>2.931150e-02</td>\n",
              "      <td>3.430886e-02</td>\n",
              "      <td>3.243323e-02</td>\n",
              "      <td>2.791705e-02</td>\n",
              "    </tr>\n",
              "    <tr>\n",
              "      <th>max</th>\n",
              "      <td>1.107267e-01</td>\n",
              "      <td>5.068012e-02</td>\n",
              "      <td>1.705552e-01</td>\n",
              "      <td>1.320442e-01</td>\n",
              "      <td>1.539137e-01</td>\n",
              "      <td>1.987880e-01</td>\n",
              "      <td>1.811791e-01</td>\n",
              "      <td>1.852344e-01</td>\n",
              "      <td>1.335990e-01</td>\n",
              "      <td>1.356118e-01</td>\n",
              "    </tr>\n",
              "  </tbody>\n",
              "</table>\n",
              "</div>"
            ],
            "text/plain": [
              "                age           sex  ...            s5            s6\n",
              "count  4.420000e+02  4.420000e+02  ...  4.420000e+02  4.420000e+02\n",
              "mean  -3.634285e-16  1.308343e-16  ... -3.830854e-16 -3.412882e-16\n",
              "std    4.761905e-02  4.761905e-02  ...  4.761905e-02  4.761905e-02\n",
              "min   -1.072256e-01 -4.464164e-02  ... -1.260974e-01 -1.377672e-01\n",
              "25%   -3.729927e-02 -4.464164e-02  ... -3.324879e-02 -3.317903e-02\n",
              "50%    5.383060e-03 -4.464164e-02  ... -1.947634e-03 -1.077698e-03\n",
              "75%    3.807591e-02  5.068012e-02  ...  3.243323e-02  2.791705e-02\n",
              "max    1.107267e-01  5.068012e-02  ...  1.335990e-01  1.356118e-01\n",
              "\n",
              "[8 rows x 10 columns]"
            ]
          },
          "metadata": {
            "tags": []
          },
          "execution_count": 101
        }
      ]
    },
    {
      "cell_type": "code",
      "metadata": {
        "colab": {
          "base_uri": "https://localhost:8080/",
          "height": 295
        },
        "id": "qBw1QffuBRsp",
        "outputId": "fc09e069-a365-4ecc-f41f-7e4723217a52"
      },
      "source": [
        "n, bins, patches = plt.hist(x = diabetes.target, bins = 100, color = '#0504aa')\n",
        "plt.grid(axis='y', alpha=0.75)\n",
        "plt.xlabel('Target (Disease Progression Value)')\n",
        "plt.ylabel('Probability')\n",
        "plt.title('Target Distribution')\n",
        "plt.show()"
      ],
      "execution_count": null,
      "outputs": [
        {
          "output_type": "display_data",
          "data": {
            "image/png": "[encoded data removed]",
            "text/plain": [
              "<Figure size 432x288 with 1 Axes>"
            ]
          },
          "metadata": {
            "tags": [],
            "needs_background": "light"
          }
        }
      ]
    },
    {
      "cell_type": "code",
      "metadata": {
        "colab": {
          "base_uri": "https://localhost:8080/",
          "height": 295
        },
        "id": "DfdEyLxdBlqr",
        "outputId": "12292403-5d48-4124-e1e8-3ce6081fb956"
      },
      "source": [
        "plt.scatter(df.bmi, diabetes.target)\n",
        "\n",
        "plt.xlabel('BMI')\n",
        "plt.ylabel('Disease Progression Value')\n",
        "plt.title('BMI scatter plot')\n",
        "plt.show()"
      ],
      "execution_count": null,
      "outputs": [
        {
          "output_type": "display_data",
          "data": {
            "image/png": "[encoded data removed]",
            "text/plain": [
              "<Figure size 432x288 with 1 Axes>"
            ]
          },
          "metadata": {
            "tags": [],
            "needs_background": "light"
          }
        }
      ]
    },
    {
      "cell_type": "code",
      "metadata": {
        "colab": {
          "base_uri": "https://localhost:8080/",
          "height": 521
        },
        "id": "b7cP654vB2fA",
        "outputId": "e73a0464-168b-4819-c851-7e2ead15303d"
      },
      "source": [
        "# correlation Matrix:\n",
        "import seaborn as sns\n",
        "df = pd.DataFrame(diabetes.data, columns=diabetes.feature_names)\n",
        "fig, ax = plt.subplots(figsize=(10,8))\n",
        "corrmat = df.corr() # Omit year\n",
        "sns.heatmap(corrmat,-1,1,ax=ax,center=0,annot=True);"
      ],
      "execution_count": null,
      "outputs": [
        {
          "output_type": "stream",
          "text": [
            "/usr/local/lib/python3.6/dist-packages/seaborn/_decorators.py:43: FutureWarning: Pass the following variables as keyword args: vmin, vmax. From version 0.12, the only valid positional argument will be `data`, and passing other arguments without an explicit keyword will result in an error or misinterpretation.\n",
            "  FutureWarning\n"
          ],
          "name": "stderr"
        },
        {
          "output_type": "display_data",
          "data": {
            "image/png": "[encoded data removed]",
            "text/plain": [
              "<Figure size 720x576 with 2 Axes>"
            ]
          },
          "metadata": {
            "tags": [],
            "needs_background": "light"
          }
        }
      ]
    },
    {
      "cell_type": "markdown",
      "metadata": {
        "id": "IveBX4VrEVdG"
      },
      "source": [
        "**Collinearity Issue?**\n",
        "> yes, from the correlation matrix there seems to be a significatn positive correlation between s1 & s2, s2 & s4, s4 & s5, and a significant negative correlation between s3 & s4."
      ]
    },
    {
      "cell_type": "markdown",
      "metadata": {
        "id": "z7w6uPnBoPun"
      },
      "source": [
        "#**IV. Models:**"
      ]
    },
    {
      "cell_type": "markdown",
      "metadata": {
        "id": "qFfmGyqcE6QO"
      },
      "source": [
        "## **Single Linear Regression (Indep. Var: BMI)**\n"
      ]
    },
    {
      "cell_type": "code",
      "metadata": {
        "colab": {
          "base_uri": "https://localhost:8080/",
          "height": 380
        },
        "id": "ANDgRbWsETgT",
        "outputId": "5d524689-aaf0-43c0-fcdf-6d7668182228"
      },
      "source": [
        "# Load the diabetes dataset\n",
        "diabetes_X, diabetes_y = datasets.load_diabetes(return_X_y=True)\n",
        "\n",
        "# Use only BMI feature\n",
        "diabetes_X = diabetes_X[:, np.newaxis, 2]\n",
        "\n",
        "# Split the data into training/testing sets\n",
        "diabetes_X_train = diabetes_X[:-20]\n",
        "diabetes_X_test = diabetes_X[-20:]\n",
        "\n",
        "# Split the targets into training/testing sets\n",
        "diabetes_y_train = diabetes_y[:-20]\n",
        "diabetes_y_test = diabetes_y[-20:]\n",
        "\n",
        "# Create linear regression object\n",
        "regr = linear_model.LinearRegression()\n",
        "\n",
        "# Train the model using the training sets\n",
        "regr.fit(diabetes_X_train, diabetes_y_train)\n",
        "\n",
        "# Make predictions using the testing set\n",
        "diabetes_y_pred = regr.predict(diabetes_X_test)\n",
        "\n",
        "\n",
        "# The coefficients\n",
        "print('Coefficient(slope): \\n', regr.coef_)\n",
        "print('Coefficient(intercept): \\n', regr.intercept_)\n",
        "# The mean squared error\n",
        "print('Mean squared error: %.2f'\n",
        "      % mean_squared_error(diabetes_y_test, diabetes_y_pred))\n",
        "# The coefficient of determination: 1 is perfect prediction\n",
        "print('Coefficient of determination: %.2f'\n",
        "      % r2_score(diabetes_y_test, diabetes_y_pred))\n",
        "\n",
        "# Plot outputs\n",
        "plt.scatter(diabetes_X_test, diabetes_y_test,  color='black')\n",
        "plt.plot(diabetes_X_test, diabetes_y_pred, color='blue', linewidth=3)\n",
        "\n",
        "plt.xticks(())\n",
        "plt.yticks(())\n",
        "plt.xlabel('BMI')\n",
        "plt.ylabel('Disease Progression Value')\n",
        "plt.title('Simple Linear regression (BMI as Indep. var.)')\n",
        "\n",
        "plt.show()"
      ],
      "execution_count": null,
      "outputs": [
        {
          "output_type": "stream",
          "text": [
            "Coefficient(slope): \n",
            " [938.23786125]\n",
            "Coefficient(intercept): \n",
            " 152.91886182616167\n",
            "Mean squared error: 2548.07\n",
            "Coefficient of determination: 0.47\n"
          ],
          "name": "stdout"
        },
        {
          "output_type": "display_data",
          "data": {
            "image/png": "[encoded data removed]",
            "text/plain": [
              "<Figure size 432x288 with 1 Axes>"
            ]
          },
          "metadata": {
            "tags": []
          }
        }
      ]
    },
    {
      "cell_type": "markdown",
      "metadata": {
        "id": "VEIMqAaILa0a"
      },
      "source": [
        "**Model Accuracy:**\n",
        "> based on the Coefficient of determination we can tell that 47% of the variation is explained by the model."
      ]
    },
    {
      "cell_type": "markdown",
      "metadata": {
        "id": "MiDKhy4p8f5q"
      },
      "source": [
        "**formula (y = mx + b)  of the regression line:**\n",
        "> y = 938.23786125x + 152.91886182616167"
      ]
    },
    {
      "cell_type": "code",
      "metadata": {
        "colab": {
          "base_uri": "https://localhost:8080/",
          "height": 423
        },
        "id": "kKm2yvYrF91d",
        "outputId": "64886d05-ed50-4a16-b502-b8031df1fb15"
      },
      "source": [
        "# checking if model should be accepted\n",
        "slm = sm.OLS(diabetes_y_train, diabetes_X_train).fit()\n",
        "slm.summary()"
      ],
      "execution_count": null,
      "outputs": [
        {
          "output_type": "execute_result",
          "data": {
            "text/html": [
              "<table class=\"simpletable\">\n",
              "<caption>OLS Regression Results</caption>\n",
              "<tr>\n",
              "  <th>Dep. Variable:</th>            <td>y</td>        <th>  R-squared (uncentered):</th>      <td>   0.072</td>\n",
              "</tr>\n",
              "<tr>\n",
              "  <th>Model:</th>                   <td>OLS</td>       <th>  Adj. R-squared (uncentered):</th> <td>   0.070</td>\n",
              "</tr>\n",
              "<tr>\n",
              "  <th>Method:</th>             <td>Least Squares</td>  <th>  F-statistic:       </th>          <td>   32.83</td>\n",
              "</tr>\n",
              "<tr>\n",
              "  <th>Date:</th>             <td>Mon, 15 Feb 2021</td> <th>  Prob (F-statistic):</th>          <td>1.92e-08</td>\n",
              "</tr>\n",
              "<tr>\n",
              "  <th>Time:</th>                 <td>03:19:29</td>     <th>  Log-Likelihood:    </th>          <td> -2754.4</td>\n",
              "</tr>\n",
              "<tr>\n",
              "  <th>No. Observations:</th>      <td>   422</td>      <th>  AIC:               </th>          <td>   5511.</td>\n",
              "</tr>\n",
              "<tr>\n",
              "  <th>Df Residuals:</th>          <td>   421</td>      <th>  BIC:               </th>          <td>   5515.</td>\n",
              "</tr>\n",
              "<tr>\n",
              "  <th>Df Model:</th>              <td>     1</td>      <th>                     </th>              <td> </td>   \n",
              "</tr>\n",
              "<tr>\n",
              "  <th>Covariance Type:</th>      <td>nonrobust</td>    <th>                     </th>              <td> </td>   \n",
              "</tr>\n",
              "</table>\n",
              "<table class=\"simpletable\">\n",
              "<tr>\n",
              "   <td></td>     <th>coef</th>     <th>std err</th>      <th>t</th>      <th>P>|t|</th>  <th>[0.025</th>    <th>0.975]</th>  \n",
              "</tr>\n",
              "<tr>\n",
              "  <th>x1</th> <td>  970.1672</td> <td>  169.321</td> <td>    5.730</td> <td> 0.000</td> <td>  637.347</td> <td> 1302.987</td>\n",
              "</tr>\n",
              "</table>\n",
              "<table class=\"simpletable\">\n",
              "<tr>\n",
              "  <th>Omnibus:</th>       <td>10.658</td> <th>  Durbin-Watson:     </th> <td>   0.266</td>\n",
              "</tr>\n",
              "<tr>\n",
              "  <th>Prob(Omnibus):</th> <td> 0.005</td> <th>  Jarque-Bera (JB):  </th> <td>   6.466</td>\n",
              "</tr>\n",
              "<tr>\n",
              "  <th>Skew:</th>          <td> 0.128</td> <th>  Prob(JB):          </th> <td>  0.0394</td>\n",
              "</tr>\n",
              "<tr>\n",
              "  <th>Kurtosis:</th>      <td> 2.450</td> <th>  Cond. No.          </th> <td>    1.00</td>\n",
              "</tr>\n",
              "</table><br/><br/>Warnings:<br/>[1] Standard Errors assume that the covariance matrix of the errors is correctly specified."
            ],
            "text/plain": [
              "<class 'statsmodels.iolib.summary.Summary'>\n",
              "\"\"\"\n",
              "                                 OLS Regression Results                                \n",
              "=======================================================================================\n",
              "Dep. Variable:                      y   R-squared (uncentered):                   0.072\n",
              "Model:                            OLS   Adj. R-squared (uncentered):              0.070\n",
              "Method:                 Least Squares   F-statistic:                              32.83\n",
              "Date:                Mon, 15 Feb 2021   Prob (F-statistic):                    1.92e-08\n",
              "Time:                        03:19:29   Log-Likelihood:                         -2754.4\n",
              "No. Observations:                 422   AIC:                                      5511.\n",
              "Df Residuals:                     421   BIC:                                      5515.\n",
              "Df Model:                           1                                                  \n",
              "Covariance Type:            nonrobust                                                  \n",
              "==============================================================================\n",
              "                 coef    std err          t      P>|t|      [0.025      0.975]\n",
              "------------------------------------------------------------------------------\n",
              "x1           970.1672    169.321      5.730      0.000     637.347    1302.987\n",
              "==============================================================================\n",
              "Omnibus:                       10.658   Durbin-Watson:                   0.266\n",
              "Prob(Omnibus):                  0.005   Jarque-Bera (JB):                6.466\n",
              "Skew:                           0.128   Prob(JB):                       0.0394\n",
              "Kurtosis:                       2.450   Cond. No.                         1.00\n",
              "==============================================================================\n",
              "\n",
              "Warnings:\n",
              "[1] Standard Errors assume that the covariance matrix of the errors is correctly specified.\n",
              "\"\"\""
            ]
          },
          "metadata": {
            "tags": []
          },
          "execution_count": 106
        }
      ]
    },
    {
      "cell_type": "markdown",
      "metadata": {
        "id": "64xpMlsmM2_Y"
      },
      "source": [
        "**Reject/Accept Model:**\n",
        "> Yes, with a F-statistic of 32.83 and since the P-value of 1.92e-08 is much smaller than the significance level of 0.01, there is much less than 1% chance that the F-statistic of 32.83 could have occurred by chance under the assumption of a valid Null hypothesis. Therefore we can reject the null hypothesis and say that the model fits the data better than the intercept-only model and therefore can be accepted."
      ]
    },
    {
      "cell_type": "markdown",
      "metadata": {
        "id": "BLrpWB6tlUke"
      },
      "source": [
        "## **Muliple Linear regression With All Indep. Vars.**"
      ]
    },
    {
      "cell_type": "code",
      "metadata": {
        "colab": {
          "base_uri": "https://localhost:8080/",
          "height": 786
        },
        "id": "FlmxVTD4lkw7",
        "outputId": "053cc6c5-79ab-4e5d-85e4-dd3cd2fafe35"
      },
      "source": [
        "diabetes_X = diabetes.data\n",
        "\n",
        "# Split the data into training/testing sets\n",
        "diabetes_X_train = diabetes_X[:-20]\n",
        "diabetes_X_test = diabetes_X[-20:]\n",
        " \n",
        "# Create linear regression object\n",
        "lm = linear_model.LinearRegression()\n",
        " \n",
        "# Train the model using the training sets\n",
        "fit = lm.fit(diabetes_X_train, diabetes_y_train)\n",
        " \n",
        "# Make predictions using the testing set\n",
        "diabetes_y_pred = fit.predict(diabetes_X_test)\n",
        " \n",
        "# The coefficients\n",
        "print('Coefficients: \\n', fit.coef_)\n",
        "print ( type(fit.coef_))\n",
        "print('Coefficient(intercept): \\n', lm.intercept_)\n",
        "# The mean squared error\n",
        "print('Mean squared error: %.2f'\n",
        "      % mean_squared_error(diabetes_y_test, diabetes_y_pred))\n",
        "# The coefficient of determination: 1 is perfect prediction\n",
        "print('Coefficient of determination: %.2f'\n",
        "      % r2_score(diabetes_y_test, diabetes_y_pred))\n",
        " \n",
        "# get feature names\n",
        "colnames = np.asarray(df.columns)\n",
        "\n",
        "df_col = pd.DataFrame( data = np.asarray(df.columns)  )\n",
        "df_coef = pd.DataFrame( data = fit.coef_)\n",
        "df_tbl =  pd.concat ( [df_col, df_coef] , axis = 1 )\n",
        "df_tbl.columns = ['Columns', 'Coefficients']\n",
        "df_tbl\n",
        " \n",
        "#  scipy.stats OLS linear regression model\n",
        "X_train = sm.add_constant(diabetes_X_train)\n",
        "lm2 = sm.OLS(diabetes_y_train, X_train).fit()\n",
        "lm2.summary()\n",
        "\n"
      ],
      "execution_count": null,
      "outputs": [
        {
          "output_type": "stream",
          "text": [
            "Coefficients: \n",
            " [ 3.03499549e-01 -2.37639315e+02  5.10530605e+02  3.27736980e+02\n",
            " -8.14131709e+02  4.92814588e+02  1.02848452e+02  1.84606489e+02\n",
            "  7.43519617e+02  7.60951722e+01]\n",
            "<class 'numpy.ndarray'>\n",
            "Coefficient(intercept): \n",
            " 152.76430691633442\n",
            "Mean squared error: 2004.57\n",
            "Coefficient of determination: 0.59\n"
          ],
          "name": "stdout"
        },
        {
          "output_type": "execute_result",
          "data": {
            "text/html": [
              "<table class=\"simpletable\">\n",
              "<caption>OLS Regression Results</caption>\n",
              "<tr>\n",
              "  <th>Dep. Variable:</th>            <td>y</td>        <th>  R-squared:         </th> <td>   0.512</td>\n",
              "</tr>\n",
              "<tr>\n",
              "  <th>Model:</th>                   <td>OLS</td>       <th>  Adj. R-squared:    </th> <td>   0.500</td>\n",
              "</tr>\n",
              "<tr>\n",
              "  <th>Method:</th>             <td>Least Squares</td>  <th>  F-statistic:       </th> <td>   43.16</td>\n",
              "</tr>\n",
              "<tr>\n",
              "  <th>Date:</th>             <td>Mon, 15 Feb 2021</td> <th>  Prob (F-statistic):</th> <td>4.64e-58</td>\n",
              "</tr>\n",
              "<tr>\n",
              "  <th>Time:</th>                 <td>03:19:29</td>     <th>  Log-Likelihood:    </th> <td> -2281.1</td>\n",
              "</tr>\n",
              "<tr>\n",
              "  <th>No. Observations:</th>      <td>   422</td>      <th>  AIC:               </th> <td>   4584.</td>\n",
              "</tr>\n",
              "<tr>\n",
              "  <th>Df Residuals:</th>          <td>   411</td>      <th>  BIC:               </th> <td>   4629.</td>\n",
              "</tr>\n",
              "<tr>\n",
              "  <th>Df Model:</th>              <td>    10</td>      <th>                     </th>     <td> </td>   \n",
              "</tr>\n",
              "<tr>\n",
              "  <th>Covariance Type:</th>      <td>nonrobust</td>    <th>                     </th>     <td> </td>   \n",
              "</tr>\n",
              "</table>\n",
              "<table class=\"simpletable\">\n",
              "<tr>\n",
              "    <td></td>       <th>coef</th>     <th>std err</th>      <th>t</th>      <th>P>|t|</th>  <th>[0.025</th>    <th>0.975]</th>  \n",
              "</tr>\n",
              "<tr>\n",
              "  <th>const</th> <td>  152.7643</td> <td>    2.658</td> <td>   57.469</td> <td> 0.000</td> <td>  147.539</td> <td>  157.990</td>\n",
              "</tr>\n",
              "<tr>\n",
              "  <th>x1</th>    <td>    0.3035</td> <td>   61.286</td> <td>    0.005</td> <td> 0.996</td> <td> -120.169</td> <td>  120.776</td>\n",
              "</tr>\n",
              "<tr>\n",
              "  <th>x2</th>    <td> -237.6393</td> <td>   62.837</td> <td>   -3.782</td> <td> 0.000</td> <td> -361.162</td> <td> -114.117</td>\n",
              "</tr>\n",
              "<tr>\n",
              "  <th>x3</th>    <td>  510.5306</td> <td>   68.156</td> <td>    7.491</td> <td> 0.000</td> <td>  376.553</td> <td>  644.508</td>\n",
              "</tr>\n",
              "<tr>\n",
              "  <th>x4</th>    <td>  327.7370</td> <td>   66.876</td> <td>    4.901</td> <td> 0.000</td> <td>  196.275</td> <td>  459.199</td>\n",
              "</tr>\n",
              "<tr>\n",
              "  <th>x5</th>    <td> -814.1317</td> <td>  424.044</td> <td>   -1.920</td> <td> 0.056</td> <td>-1647.697</td> <td>   19.434</td>\n",
              "</tr>\n",
              "<tr>\n",
              "  <th>x6</th>    <td>  492.8146</td> <td>  344.227</td> <td>    1.432</td> <td> 0.153</td> <td> -183.850</td> <td> 1169.480</td>\n",
              "</tr>\n",
              "<tr>\n",
              "  <th>x7</th>    <td>  102.8485</td> <td>  219.463</td> <td>    0.469</td> <td> 0.640</td> <td> -328.561</td> <td>  534.258</td>\n",
              "</tr>\n",
              "<tr>\n",
              "  <th>x8</th>    <td>  184.6065</td> <td>  167.336</td> <td>    1.103</td> <td> 0.271</td> <td> -144.334</td> <td>  513.547</td>\n",
              "</tr>\n",
              "<tr>\n",
              "  <th>x9</th>    <td>  743.5196</td> <td>  175.359</td> <td>    4.240</td> <td> 0.000</td> <td>  398.807</td> <td> 1088.232</td>\n",
              "</tr>\n",
              "<tr>\n",
              "  <th>x10</th>   <td>   76.0952</td> <td>   68.293</td> <td>    1.114</td> <td> 0.266</td> <td>  -58.152</td> <td>  210.343</td>\n",
              "</tr>\n",
              "</table>\n",
              "<table class=\"simpletable\">\n",
              "<tr>\n",
              "  <th>Omnibus:</th>       <td> 1.544</td> <th>  Durbin-Watson:     </th> <td>   2.026</td>\n",
              "</tr>\n",
              "<tr>\n",
              "  <th>Prob(Omnibus):</th> <td> 0.462</td> <th>  Jarque-Bera (JB):  </th> <td>   1.421</td>\n",
              "</tr>\n",
              "<tr>\n",
              "  <th>Skew:</th>          <td> 0.004</td> <th>  Prob(JB):          </th> <td>   0.491</td>\n",
              "</tr>\n",
              "<tr>\n",
              "  <th>Kurtosis:</th>      <td> 2.716</td> <th>  Cond. No.          </th> <td>    224.</td>\n",
              "</tr>\n",
              "</table><br/><br/>Warnings:<br/>[1] Standard Errors assume that the covariance matrix of the errors is correctly specified."
            ],
            "text/plain": [
              "<class 'statsmodels.iolib.summary.Summary'>\n",
              "\"\"\"\n",
              "                            OLS Regression Results                            \n",
              "==============================================================================\n",
              "Dep. Variable:                      y   R-squared:                       0.512\n",
              "Model:                            OLS   Adj. R-squared:                  0.500\n",
              "Method:                 Least Squares   F-statistic:                     43.16\n",
              "Date:                Mon, 15 Feb 2021   Prob (F-statistic):           4.64e-58\n",
              "Time:                        03:19:29   Log-Likelihood:                -2281.1\n",
              "No. Observations:                 422   AIC:                             4584.\n",
              "Df Residuals:                     411   BIC:                             4629.\n",
              "Df Model:                          10                                         \n",
              "Covariance Type:            nonrobust                                         \n",
              "==============================================================================\n",
              "                 coef    std err          t      P>|t|      [0.025      0.975]\n",
              "------------------------------------------------------------------------------\n",
              "const        152.7643      2.658     57.469      0.000     147.539     157.990\n",
              "x1             0.3035     61.286      0.005      0.996    -120.169     120.776\n",
              "x2          -237.6393     62.837     -3.782      0.000    -361.162    -114.117\n",
              "x3           510.5306     68.156      7.491      0.000     376.553     644.508\n",
              "x4           327.7370     66.876      4.901      0.000     196.275     459.199\n",
              "x5          -814.1317    424.044     -1.920      0.056   -1647.697      19.434\n",
              "x6           492.8146    344.227      1.432      0.153    -183.850    1169.480\n",
              "x7           102.8485    219.463      0.469      0.640    -328.561     534.258\n",
              "x8           184.6065    167.336      1.103      0.271    -144.334     513.547\n",
              "x9           743.5196    175.359      4.240      0.000     398.807    1088.232\n",
              "x10           76.0952     68.293      1.114      0.266     -58.152     210.343\n",
              "==============================================================================\n",
              "Omnibus:                        1.544   Durbin-Watson:                   2.026\n",
              "Prob(Omnibus):                  0.462   Jarque-Bera (JB):                1.421\n",
              "Skew:                           0.004   Prob(JB):                        0.491\n",
              "Kurtosis:                       2.716   Cond. No.                         224.\n",
              "==============================================================================\n",
              "\n",
              "Warnings:\n",
              "[1] Standard Errors assume that the covariance matrix of the errors is correctly specified.\n",
              "\"\"\""
            ]
          },
          "metadata": {
            "tags": []
          },
          "execution_count": 107
        }
      ]
    },
    {
      "cell_type": "markdown",
      "metadata": {
        "id": "Q9i6DNrhQ-gD"
      },
      "source": [
        "**Model Accuracy:**\n",
        "\n",
        "based on the Coefficient of determination we can tell that 59% of the variation is explained by the model."
      ]
    },
    {
      "cell_type": "markdown",
      "metadata": {
        "id": "KTy3pf01R4wV"
      },
      "source": [
        "**formula (y = mx + b)  of the regression line:**\n",
        "> y = 152.76430691633442 + 3.03499549e-01x1 - 2.37639315e+02x2 + 5.10530605e+02x3 + 3.27736980e+02x4 - 8.14131709e+02x5 + 4.92814588e+02x6 + 1.02848452e+02x7 + 1.84606489e+02x8 + 7.43519617e+02x9 + 7.60951722e+01x10"
      ]
    },
    {
      "cell_type": "markdown",
      "metadata": {
        "id": "xsVF6XVhVYQD"
      },
      "source": [
        "**Reject/Accept Model:**\n",
        "> Yes, with a F-statistic of \t43.16 and since the P-value of 4.64e-58 is much smaller than the significance level of 0.01, there is much less than 1% chance that the F-statistic of \t43.16 could have occurred by chance under the assumption of a valid Null hypothesis. Therefore we can reject the null hypothesis and say that the model fits the data better than the intercept-only model and therefore can be accepted."
      ]
    },
    {
      "cell_type": "markdown",
      "metadata": {
        "id": "1X1a9zU1V88m"
      },
      "source": [
        "## **Alternative Multiple Linear Regression Model**"
      ]
    },
    {
      "cell_type": "code",
      "metadata": {
        "colab": {
          "base_uri": "https://localhost:8080/",
          "height": 706
        },
        "id": "S5dphZSGWxhF",
        "outputId": "48515798-b1f2-481d-86aa-e0a9d9572f7d"
      },
      "source": [
        "diabetes_X = X = df[['sex','age','bp','bmi','s1','s5','s6']]\n",
        "\n",
        "# Split the data into training/testing sets\n",
        "diabetes_X_train = diabetes_X[:-20]\n",
        "diabetes_X_test = diabetes_X[-20:]\n",
        " \n",
        "# Create linear regression object\n",
        "lm = linear_model.LinearRegression()\n",
        " \n",
        "# Train the model using the training sets\n",
        "fit = lm.fit(diabetes_X_train, diabetes_y_train)\n",
        " \n",
        "# Make predictions using the testing set\n",
        "diabetes_y_pred = fit.predict(diabetes_X_test)\n",
        " \n",
        "# The coefficients\n",
        "print('Coefficients: \\n', fit.coef_)\n",
        "print ( type(fit.coef_))\n",
        "print('Coefficient(intercept): \\n', lm.intercept_)\n",
        "# The mean squared error\n",
        "print('Mean squared error: %.2f'\n",
        "      % mean_squared_error(diabetes_y_test, diabetes_y_pred))\n",
        "# The coefficient of determination: 1 is perfect prediction\n",
        "print('Coefficient of determination: %.2f'\n",
        "      % r2_score(diabetes_y_test, diabetes_y_pred))\n",
        " \n",
        "# get feature names\n",
        "colnames = np.asarray(df.columns)\n",
        "\n",
        "df_col = pd.DataFrame( data = np.asarray(df.columns)  )\n",
        "df_coef = pd.DataFrame( data = fit.coef_)\n",
        "df_tbl =  pd.concat ( [df_col, df_coef] , axis = 1 )\n",
        "df_tbl.columns = ['Columns', 'Coefficients']\n",
        "df_tbl\n",
        " \n",
        "#  scipy.stats OLS linear regression model\n",
        "X_train = sm.add_constant(diabetes_X_train)\n",
        "lm2 = sm.OLS(diabetes_y_train, X_train).fit()\n",
        "lm2.summary()\n"
      ],
      "execution_count": null,
      "outputs": [
        {
          "output_type": "stream",
          "text": [
            "Coefficients: \n",
            " [-152.01040399  -11.71300038  295.34060322  580.584991   -225.23120606\n",
            "  628.18436846  103.19648743]\n",
            "<class 'numpy.ndarray'>\n",
            "Coefficient(intercept): \n",
            " 152.80283633369243\n",
            "Mean squared error: 1947.13\n",
            "Coefficient of determination: 0.60\n"
          ],
          "name": "stdout"
        },
        {
          "output_type": "execute_result",
          "data": {
            "text/html": [
              "<table class=\"simpletable\">\n",
              "<caption>OLS Regression Results</caption>\n",
              "<tr>\n",
              "  <th>Dep. Variable:</th>            <td>y</td>        <th>  R-squared:         </th> <td>   0.495</td>\n",
              "</tr>\n",
              "<tr>\n",
              "  <th>Model:</th>                   <td>OLS</td>       <th>  Adj. R-squared:    </th> <td>   0.487</td>\n",
              "</tr>\n",
              "<tr>\n",
              "  <th>Method:</th>             <td>Least Squares</td>  <th>  F-statistic:       </th> <td>   58.05</td>\n",
              "</tr>\n",
              "<tr>\n",
              "  <th>Date:</th>             <td>Mon, 15 Feb 2021</td> <th>  Prob (F-statistic):</th> <td>1.10e-57</td>\n",
              "</tr>\n",
              "<tr>\n",
              "  <th>Time:</th>                 <td>03:19:29</td>     <th>  Log-Likelihood:    </th> <td> -2288.3</td>\n",
              "</tr>\n",
              "<tr>\n",
              "  <th>No. Observations:</th>      <td>   422</td>      <th>  AIC:               </th> <td>   4593.</td>\n",
              "</tr>\n",
              "<tr>\n",
              "  <th>Df Residuals:</th>          <td>   414</td>      <th>  BIC:               </th> <td>   4625.</td>\n",
              "</tr>\n",
              "<tr>\n",
              "  <th>Df Model:</th>              <td>     7</td>      <th>                     </th>     <td> </td>   \n",
              "</tr>\n",
              "<tr>\n",
              "  <th>Covariance Type:</th>      <td>nonrobust</td>    <th>                     </th>     <td> </td>   \n",
              "</tr>\n",
              "</table>\n",
              "<table class=\"simpletable\">\n",
              "<tr>\n",
              "    <td></td>       <th>coef</th>     <th>std err</th>      <th>t</th>      <th>P>|t|</th>  <th>[0.025</th>    <th>0.975]</th>  \n",
              "</tr>\n",
              "<tr>\n",
              "  <th>const</th> <td>  152.8028</td> <td>    2.694</td> <td>   56.724</td> <td> 0.000</td> <td>  147.508</td> <td>  158.098</td>\n",
              "</tr>\n",
              "<tr>\n",
              "  <th>sex</th>   <td> -152.0104</td> <td>   58.985</td> <td>   -2.577</td> <td> 0.010</td> <td> -267.959</td> <td>  -36.062</td>\n",
              "</tr>\n",
              "<tr>\n",
              "  <th>age</th>   <td>  -11.7130</td> <td>   61.874</td> <td>   -0.189</td> <td> 0.850</td> <td> -133.340</td> <td>  109.914</td>\n",
              "</tr>\n",
              "<tr>\n",
              "  <th>bp</th>    <td>  295.3406</td> <td>   67.094</td> <td>    4.402</td> <td> 0.000</td> <td>  163.453</td> <td>  427.228</td>\n",
              "</tr>\n",
              "<tr>\n",
              "  <th>bmi</th>   <td>  580.5850</td> <td>   66.201</td> <td>    8.770</td> <td> 0.000</td> <td>  450.454</td> <td>  710.716</td>\n",
              "</tr>\n",
              "<tr>\n",
              "  <th>s1</th>    <td> -225.2312</td> <td>   67.756</td> <td>   -3.324</td> <td> 0.001</td> <td> -358.420</td> <td>  -92.042</td>\n",
              "</tr>\n",
              "<tr>\n",
              "  <th>s5</th>    <td>  628.1844</td> <td>   74.713</td> <td>    8.408</td> <td> 0.000</td> <td>  481.321</td> <td>  775.048</td>\n",
              "</tr>\n",
              "<tr>\n",
              "  <th>s6</th>    <td>  103.1965</td> <td>   68.727</td> <td>    1.502</td> <td> 0.134</td> <td>  -31.901</td> <td>  238.294</td>\n",
              "</tr>\n",
              "</table>\n",
              "<table class=\"simpletable\">\n",
              "<tr>\n",
              "  <th>Omnibus:</th>       <td> 2.167</td> <th>  Durbin-Watson:     </th> <td>   2.039</td>\n",
              "</tr>\n",
              "<tr>\n",
              "  <th>Prob(Omnibus):</th> <td> 0.338</td> <th>  Jarque-Bera (JB):  </th> <td>   1.968</td>\n",
              "</tr>\n",
              "<tr>\n",
              "  <th>Skew:</th>          <td> 0.077</td> <th>  Prob(JB):          </th> <td>   0.374</td>\n",
              "</tr>\n",
              "<tr>\n",
              "  <th>Kurtosis:</th>      <td> 2.703</td> <th>  Cond. No.          </th> <td>    32.4</td>\n",
              "</tr>\n",
              "</table><br/><br/>Warnings:<br/>[1] Standard Errors assume that the covariance matrix of the errors is correctly specified."
            ],
            "text/plain": [
              "<class 'statsmodels.iolib.summary.Summary'>\n",
              "\"\"\"\n",
              "                            OLS Regression Results                            \n",
              "==============================================================================\n",
              "Dep. Variable:                      y   R-squared:                       0.495\n",
              "Model:                            OLS   Adj. R-squared:                  0.487\n",
              "Method:                 Least Squares   F-statistic:                     58.05\n",
              "Date:                Mon, 15 Feb 2021   Prob (F-statistic):           1.10e-57\n",
              "Time:                        03:19:29   Log-Likelihood:                -2288.3\n",
              "No. Observations:                 422   AIC:                             4593.\n",
              "Df Residuals:                     414   BIC:                             4625.\n",
              "Df Model:                           7                                         \n",
              "Covariance Type:            nonrobust                                         \n",
              "==============================================================================\n",
              "                 coef    std err          t      P>|t|      [0.025      0.975]\n",
              "------------------------------------------------------------------------------\n",
              "const        152.8028      2.694     56.724      0.000     147.508     158.098\n",
              "sex         -152.0104     58.985     -2.577      0.010    -267.959     -36.062\n",
              "age          -11.7130     61.874     -0.189      0.850    -133.340     109.914\n",
              "bp           295.3406     67.094      4.402      0.000     163.453     427.228\n",
              "bmi          580.5850     66.201      8.770      0.000     450.454     710.716\n",
              "s1          -225.2312     67.756     -3.324      0.001    -358.420     -92.042\n",
              "s5           628.1844     74.713      8.408      0.000     481.321     775.048\n",
              "s6           103.1965     68.727      1.502      0.134     -31.901     238.294\n",
              "==============================================================================\n",
              "Omnibus:                        2.167   Durbin-Watson:                   2.039\n",
              "Prob(Omnibus):                  0.338   Jarque-Bera (JB):                1.968\n",
              "Skew:                           0.077   Prob(JB):                        0.374\n",
              "Kurtosis:                       2.703   Cond. No.                         32.4\n",
              "==============================================================================\n",
              "\n",
              "Warnings:\n",
              "[1] Standard Errors assume that the covariance matrix of the errors is correctly specified.\n",
              "\"\"\""
            ]
          },
          "metadata": {
            "tags": []
          },
          "execution_count": 108
        }
      ]
    },
    {
      "cell_type": "markdown",
      "metadata": {
        "id": "rAG-H2rjgWI8"
      },
      "source": [
        "**Comparison with first multiple linear regression**\n",
        "Instead of using all independednt variables in this milti linear regression I used the following variables, sex, age, bp, bmi, s1, s5, and s6, excluding the variables that were correlated with each other(I Stepwise). As seen on the results of the model above, the model has a slightly higher coefficient of determination(0.60 compared to 0.59), it also had a lower mean square error(1947.13 compared to 2004.57), and a higher F-statistic (58.05 vs 42.6). From these comparisons, it is fair to conclude that this model fits the data better and can predict disease progress more accuratly."
      ]
    },
    {
      "cell_type": "markdown",
      "metadata": {
        "id": "74rMbET1pHAw"
      },
      "source": [
        "#**V. Conclusion**\n",
        "In this lab there were three different regression models conducted. the first was a simplre regression model using only BMI as the independent variable the results were the significantly low p-value of the F-statistic helped us reject H0. The second model was a multiple regression model using all independent varaibles to predict the data. This resulted in a higher coefficient of determination as well as a higher F-statistic and P-value which indicated that this was a better model than the first model. For the third model, Using the Correlation Matrix I excluded the independet variables with significant correlation to one another and was able to improve the model by doing yet another multiple regression with the non-correlated independent variables.\n",
        "\n",
        "In conclusion using a simple regression and multiple regression can give us a reletivly accurate model to predict diabetes progress but in the future, more complex models can be investigates to see if a better fit is avalible."
      ]
    }
  ]
}
{
  "nbformat": 4,
  "nbformat_minor": 0,
  "metadata": {
    "colab": {
      "name": "lab6.ipynb",
      "provenance": [],
      "collapsed_sections": []
    },
    "kernelspec": {
      "name": "python3",
      "display_name": "Python 3"
    }
  },
  "cells": [
    {
      "cell_type": "markdown",
      "metadata": {
        "id": "pf20vI2VkG6W"
      },
      "source": [
        "#**Reza Dehkordi**\n",
        "#**02-26-2021**"
      ]
    },
    {
      "cell_type": "markdown",
      "metadata": {
        "id": "iABOqDXBdqsl"
      },
      "source": [
        "#**Overview:**\n",
        ">The task given is to find out which features of the supplied data set are strong indicators of customers of caravan insurance, in order to better be able to decide who should be given insurance and who should not be. This is imporant because ideally we would want to minimize the individauls identified as high rist, as policy holders."
      ]
    },
    {
      "cell_type": "markdown",
      "metadata": {
        "id": "1WX8T9NzewA2"
      },
      "source": [
        "# **Data:**\n",
        "> Data imported from https://www.kaggle.com/uciml/caravan-insurance-challenge/home and includes 5822 real customer records. Each record consists of 86 variables, containing sociodemographic data (variables 1-43) and product ownership (variables 44-86)."
      ]
    },
    {
      "cell_type": "code",
      "metadata": {
        "id": "M6QV8DC7ZwJL",
        "colab": {
          "resources": {
            "http://localhost:8080/nbextensions/google.colab/files.js": {
              "data": "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",
              "ok": true,
              "headers": [
                [
                  "content-type",
                  "application/javascript"
                ]
              ],
              "status": 200,
              "status_text": ""
            }
          },
          "base_uri": "https://localhost:8080/",
          "height": 72
        },
        "outputId": "a9431c4d-4833-432a-ce61-cdbf123284af"
      },
      "source": [
        "import pandas as pd \n",
        "import matplotlib.pyplot as plt\n",
        "import matplotlib\n",
        "import numpy as np\n",
        "from sklearn.model_selection import train_test_split\n",
        "from sklearn.decomposition import PCA\n",
        "%matplotlib inline\n",
        "# forward/backward feature selection based on p-value\n",
        "import statsmodels.api as sm\n",
        "from sklearn.preprocessing import StandardScaler\n",
        "from sklearn.linear_model import LogisticRegression\n",
        "\n",
        "\n",
        "#load data\n",
        "from google.colab import files\n",
        "uploaded = files.upload()\n",
        "import io\n",
        "df = pd.read_csv(io.BytesIO(uploaded['caravan-insurance-challenge.csv']))"
      ],
      "execution_count": null,
      "outputs": [
        {
          "output_type": "display_data",
          "data": {
            "text/html": [
              "\n",
              "     <input type=\"file\" id=\"files-374859a2-6b97-4b08-8b06-94da817cfdd2\" name=\"files[]\" multiple disabled\n",
              "        style=\"border:none\" />\n",
              "     <output id=\"result-374859a2-6b97-4b08-8b06-94da817cfdd2\">\n",
              "      Upload widget is only available when the cell has been executed in the\n",
              "      current browser session. Please rerun this cell to enable.\n",
              "      </output>\n",
              "      <script src=\"/nbextensions/google.colab/files.js\"></script> "
            ],
            "text/plain": [
              "<IPython.core.display.HTML object>"
            ]
          },
          "metadata": {
            "tags": []
          }
        },
        {
          "output_type": "stream",
          "text": [
            "Saving caravan-insurance-challenge.csv to caravan-insurance-challenge.csv\n"
          ],
          "name": "stdout"
        }
      ]
    },
    {
      "cell_type": "markdown",
      "metadata": {
        "id": "t-FCPKjOfWOA"
      },
      "source": [
        "#**EDA:**"
      ]
    },
    {
      "cell_type": "code",
      "metadata": {
        "colab": {
          "base_uri": "https://localhost:8080/",
          "height": 669
        },
        "id": "Bv0FemnWgJkd",
        "outputId": "7b7190e2-76a3-442c-880f-3e7d023f8984"
      },
      "source": [
        "# Perform EDA:\n",
        "%matplotlib inline\n",
        "import matplotlib.pyplot as plt\n",
        "import numpy as np\n",
        "\n",
        "\n",
        "print(\"shape: \")\n",
        "print(df.shape)\n",
        "print(\"\\ncheck missing values per each attirbute:\")\n",
        "print(df.isnull().sum() )\n",
        "print('\\n\\n')\n",
        "\n",
        "Not_Insured_with_caravan = sum(df['CARAVAN'] == 0)\n",
        "Insured_with_caravan = sum(df['CARAVAN'] == 1)\n",
        "\n",
        "plt.bar('Not Insured', Not_Insured_with_caravan, color = 'b', width = 0.25, label='Not Insured')\n",
        "plt.bar('Insured', Insured_with_caravan, color = 'r', width = 0.25, label='Insured')\n",
        "\n",
        "#X = np.arange(1)\n",
        "print(\"Not Insured: \",Not_Insured_with_caravan)\n",
        "print(\"Insured: \", Insured_with_caravan)\n",
        "\n",
        "plt.title(\"Number of People with Caravan's Insured vs Not Insured\")\n",
        "plt.xlabel(\"Policy Status\")\n",
        "plt.ylabel(\"Number of People\")\n",
        "plt.legend(loc='upper right')"
      ],
      "execution_count": null,
      "outputs": [
        {
          "output_type": "stream",
          "text": [
            "shape: \n",
            "(9822, 87)\n",
            "\n",
            "check missing values per each attirbute:\n",
            "ORIGIN      0\n",
            "MOSTYPE     0\n",
            "MAANTHUI    0\n",
            "MGEMOMV     0\n",
            "MGEMLEEF    0\n",
            "           ..\n",
            "APLEZIER    0\n",
            "AFIETS      0\n",
            "AINBOED     0\n",
            "ABYSTAND    0\n",
            "CARAVAN     0\n",
            "Length: 87, dtype: int64\n",
            "\n",
            "\n",
            "\n",
            "Not Insured:  9236\n",
            "Insured:  586\n"
          ],
          "name": "stdout"
        },
        {
          "output_type": "execute_result",
          "data": {
            "text/plain": [
              "<matplotlib.legend.Legend at 0x7f7779915690>"
            ]
          },
          "metadata": {
            "tags": []
          },
          "execution_count": 30
        },
        {
          "output_type": "display_data",
          "data": {
            "image/png": "[encoded data removed]",
            "text/plain": [
              "<Figure size 432x288 with 1 Axes>"
            ]
          },
          "metadata": {
            "tags": [],
            "needs_background": "light"
          }
        }
      ]
    },
    {
      "cell_type": "markdown",
      "metadata": {
        "id": "x7l7qAThG2Mg"
      },
      "source": [
        "Evidence of unbalance data.\n"
      ]
    },
    {
      "cell_type": "code",
      "metadata": {
        "colab": {
          "base_uri": "https://localhost:8080/",
          "height": 329
        },
        "id": "lENWH1VgU59D",
        "outputId": "704e0fb5-369b-4ab8-d906-a41bbe6fbf17"
      },
      "source": [
        "from sklearn.utils import resample\n",
        "\n",
        "not_insured= df[df['CARAVAN'] == 0]\n",
        "insured = df[df['CARAVAN'] == 1]\n",
        "\n",
        "\n",
        "insurance_upsampled = resample(insured,\n",
        "                              replace=True, # sample with replacement\n",
        "                              n_samples=len(not_insured), # match number in majority class\n",
        "                              random_state=27) # reproducible results\n",
        "\n",
        "# combine majority and upsampled minority\n",
        "upsampled = pd.concat([not_insured, insurance_upsampled])\n",
        "\n",
        "upsampled_not_insured = sum(upsampled['CARAVAN'] == 0)\n",
        "upsampled_insured = sum(upsampled['CARAVAN'] == 1)\n",
        "\n",
        "plt.bar('Not Insured', upsampled_not_insured, color = 'b', width = 0.25, label='Not Insured Oversampled')\n",
        "plt.bar('Insured', upsampled_insured, color = 'r', width = 0.25, label='Insured Oversampled')\n",
        "plt.title(\"Number of People with Caravan's Insured vs Not Insured Oversampled\")\n",
        "plt.xlabel(\"Policy Status\")\n",
        "plt.ylabel(\"Number of People\")\n",
        "plt.legend(loc='upper center')\n",
        "\n",
        "#X = np.arange(1)\n",
        "print(\"Not Insured: \",upsampled_not_insured)\n",
        "print(\"Insured: \", upsampled_insured)\n"
      ],
      "execution_count": null,
      "outputs": [
        {
          "output_type": "stream",
          "text": [
            "Not Insured:  9236\n",
            "Insured:  9236\n"
          ],
          "name": "stdout"
        },
        {
          "output_type": "display_data",
          "data": {
            "image/png": "[encoded data removed]",
            "text/plain": [
              "<Figure size 432x288 with 1 Axes>"
            ]
          },
          "metadata": {
            "tags": [],
            "needs_background": "light"
          }
        }
      ]
    },
    {
      "cell_type": "markdown",
      "metadata": {
        "id": "I-xXFt-tOY53"
      },
      "source": [
        "# **Modeling:**\n"
      ]
    },
    {
      "cell_type": "markdown",
      "metadata": {
        "id": "UVTLOsmHSBig"
      },
      "source": [
        "## **I. Logistic Regression With all Features(Base Model)**"
      ]
    },
    {
      "cell_type": "code",
      "metadata": {
        "colab": {
          "base_uri": "https://localhost:8080/"
        },
        "id": "qHeIzKc7Ofwk",
        "outputId": "7e4ff58f-f2a2-490b-8d1d-bcae2454c06e"
      },
      "source": [
        "df_n = df.drop(['ORIGIN'], axis=1)\n",
        "y = df_n.CARAVAN\n",
        "X = df_n.drop(\"CARAVAN\", axis = 1)\n",
        "slr = LogisticRegression(random_state=0).fit(X, y)\n",
        "\n",
        "slr.score(X, y)"
      ],
      "execution_count": null,
      "outputs": [
        {
          "output_type": "stream",
          "text": [
            "/usr/local/lib/python3.7/dist-packages/sklearn/linear_model/_logistic.py:940: ConvergenceWarning: lbfgs failed to converge (status=1):\n",
            "STOP: TOTAL NO. of ITERATIONS REACHED LIMIT.\n",
            "\n",
            "Increase the number of iterations (max_iter) or scale the data as shown in:\n",
            "    https://scikit-learn.org/stable/modules/preprocessing.html\n",
            "Please also refer to the documentation for alternative solver options:\n",
            "    https://scikit-learn.org/stable/modules/linear_model.html#logistic-regression\n",
            "  extra_warning_msg=_LOGISTIC_SOLVER_CONVERGENCE_MSG)\n"
          ],
          "name": "stderr"
        },
        {
          "output_type": "execute_result",
          "data": {
            "text/plain": [
              "0.940643453471798"
            ]
          },
          "metadata": {
            "tags": []
          },
          "execution_count": 14
        }
      ]
    },
    {
      "cell_type": "markdown",
      "metadata": {
        "id": "V8_Q34yXvdti"
      },
      "source": [
        "The accuracy resulted from the score is reported at 94% which is reletivly high. However since the data is unbalanced we should test out other measures. We can compare the number of Caravan Insurance holders vs the predicted holders and see how accurate the model actually is."
      ]
    },
    {
      "cell_type": "code",
      "metadata": {
        "colab": {
          "base_uri": "https://localhost:8080/"
        },
        "id": "wmssDSMEwa4D",
        "outputId": "686c3b5b-06f3-4eef-ac9d-1fff48feca68"
      },
      "source": [
        "pred = sum(slr.predict(X))\n",
        "actual = sum(y)\n",
        "print(\"The number of actual holders %d vs predicted %d\" % (actual, pred))"
      ],
      "execution_count": null,
      "outputs": [
        {
          "output_type": "stream",
          "text": [
            "The number of actual holders 586 vs predicted 9\n"
          ],
          "name": "stdout"
        }
      ]
    },
    {
      "cell_type": "markdown",
      "metadata": {
        "id": "dUP_I_LtxOgu"
      },
      "source": [
        "From this analysis we can see that the predictions are not anywhere near the actual amount."
      ]
    },
    {
      "cell_type": "code",
      "metadata": {
        "colab": {
          "base_uri": "https://localhost:8080/"
        },
        "id": "UDgStIqBHRjT",
        "outputId": "bed484d4-e40c-49ae-c888-e0d3258d4be3"
      },
      "source": [
        "ups = upsampled.drop(['ORIGIN'], axis=1)\n",
        "y = ups.CARAVAN\n",
        "X_bal = ups.drop(\"CARAVAN\", axis = 1)\n",
        "slrs = LogisticRegression(random_state=0).fit(X, y)\n",
        "\n",
        "slrs.score(X, y)"
      ],
      "execution_count": null,
      "outputs": [
        {
          "output_type": "stream",
          "text": [
            "/usr/local/lib/python3.7/dist-packages/sklearn/linear_model/_logistic.py:940: ConvergenceWarning: lbfgs failed to converge (status=1):\n",
            "STOP: TOTAL NO. of ITERATIONS REACHED LIMIT.\n",
            "\n",
            "Increase the number of iterations (max_iter) or scale the data as shown in:\n",
            "    https://scikit-learn.org/stable/modules/preprocessing.html\n",
            "Please also refer to the documentation for alternative solver options:\n",
            "    https://scikit-learn.org/stable/modules/linear_model.html#logistic-regression\n",
            "  extra_warning_msg=_LOGISTIC_SOLVER_CONVERGENCE_MSG)\n"
          ],
          "name": "stderr"
        },
        {
          "output_type": "execute_result",
          "data": {
            "text/plain": [
              "0.6918038111736683"
            ]
          },
          "metadata": {
            "tags": []
          },
          "execution_count": 46
        }
      ]
    },
    {
      "cell_type": "markdown",
      "metadata": {
        "id": "k46I6Vs8Ht7Z"
      },
      "source": [
        "The accuracy of predicting non policy holders is less accurate on the balanced data set than the unbalanced data set"
      ]
    },
    {
      "cell_type": "code",
      "metadata": {
        "colab": {
          "base_uri": "https://localhost:8080/"
        },
        "id": "eerf9rruHrSw",
        "outputId": "28f02cc9-3343-4f7b-b39b-abb9d60c436a"
      },
      "source": [
        "pred = sum(slrs.predict(X_bal))\n",
        "actual = sum(y)\n",
        "print(\"The number of actual holders %d vs predicted %d\" % (actual, pred))"
      ],
      "execution_count": null,
      "outputs": [
        {
          "output_type": "stream",
          "text": [
            "The number of actual holders 9236 vs predicted 9281\n"
          ],
          "name": "stdout"
        }
      ]
    },
    {
      "cell_type": "markdown",
      "metadata": {
        "id": "qI8DvpueIY9I"
      },
      "source": [
        "From this analysis it can be seen that 45 non policy holders have been misclassified as policy holders\n"
      ]
    },
    {
      "cell_type": "markdown",
      "metadata": {
        "id": "QmfdTg8xygdE"
      },
      "source": [
        "## **II. Logistic regression with stepwise selection based on p-values**"
      ]
    },
    {
      "cell_type": "code",
      "metadata": {
        "colab": {
          "base_uri": "https://localhost:8080/"
        },
        "id": "YM253HmGzSTE",
        "outputId": "0141de68-3f0f-4bac-ee9f-877365bb4b6b"
      },
      "source": [
        "\n",
        "def stepwise_selection(X, y, \n",
        "                       initial_list=[], \n",
        "                       threshold_in=0.01, \n",
        "                       threshold_out = 0.05, \n",
        "                       verbose=True):\n",
        "    \"\"\" Perform a forward-backward feature selection \n",
        "    based on p-value from statsmodels.api.OLS\n",
        "    Arguments:\n",
        "        X - pandas.DataFrame with candidate features\n",
        "        y - list-like with the target\n",
        "        initial_list - list of features to start with (column names of X)\n",
        "        threshold_in - include a feature if its p-value < threshold_in\n",
        "        threshold_out - exclude a feature if its p-value > threshold_out\n",
        "        verbose - whether to print the sequence of inclusions and exclusions\n",
        "    Returns: list of selected features \n",
        "    Always set threshold_in < threshold_out to avoid infinite looping.\n",
        "    See https://en.wikipedia.org/wiki/Stepwise_regression for the details\n",
        "    \"\"\"\n",
        "    included = list(initial_list)\n",
        "    while True:\n",
        "        changed=False\n",
        "        # forward step\n",
        "        excluded = list(set(X.columns)-set(included))\n",
        "        new_pval = pd.Series(index=excluded)\n",
        "        for new_column in excluded:\n",
        "            model = sm.OLS(y, sm.add_constant(pd.DataFrame(X[included+[new_column]]))).fit()\n",
        "            new_pval[new_column] = model.pvalues[new_column]\n",
        "        best_pval = new_pval.min()\n",
        "        if best_pval < threshold_in:\n",
        "#            best_feature = new_pval.argmin()\n",
        "            best_feature = new_pval.idxmin()\n",
        "            included.append(best_feature)\n",
        "            changed=True\n",
        "            if verbose:\n",
        "                print('Add  {:30} with p-value {:.6}'.format(best_feature, best_pval))\n",
        "\n",
        "        # backward step\n",
        "        model = sm.OLS(y, sm.add_constant(pd.DataFrame(X[included]))).fit()\n",
        "        # use all coefs except intercept\n",
        "        pvalues = model.pvalues.iloc[1:]\n",
        "        worst_pval = pvalues.max() # null if pvalues is empty\n",
        "        if worst_pval > threshold_out:\n",
        "            changed=True\n",
        "            worst_feature = pvalues.argmax()\n",
        "            included.remove(worst_feature)\n",
        "            if verbose:\n",
        "                print('Drop {:30} with p-value {:.6}'.format(worst_feature, worst_pval))\n",
        "        if not changed:\n",
        "            break\n",
        "    return included\n",
        "\n",
        "result = stepwise_selection(X, y)\n",
        "\n",
        "print('resulting features:')\n",
        "print(result)\n",
        "print(len(result))"
      ],
      "execution_count": null,
      "outputs": [
        {
          "output_type": "stream",
          "text": [
            "/usr/local/lib/python3.7/dist-packages/ipykernel_launcher.py:25: DeprecationWarning: The default dtype for empty Series will be 'object' instead of 'float64' in a future version. Specify a dtype explicitly to silence this warning.\n"
          ],
          "name": "stderr"
        },
        {
          "output_type": "stream",
          "text": [
            "Add  PPERSAUT                       with p-value 2.14684e-42\n",
            "Add  MKOOPKLA                       with p-value 1.36739e-21\n",
            "Add  PWAPART                        with p-value 3.66711e-15\n",
            "Add  APLEZIER                       with p-value 8.20766e-15\n",
            "Add  MOPLHOOG                       with p-value 4.25236e-06\n",
            "Add  PBRAND                         with p-value 3.92829e-06\n",
            "Add  MBERBOER                       with p-value 8.31838e-06\n",
            "Add  MRELGE                         with p-value 1.41977e-05\n",
            "Add  PWALAND                        with p-value 0.000361295\n",
            "Add  ABRAND                         with p-value 0.000937601\n",
            "Add  AZEILPL                        with p-value 0.00153041\n",
            "Add  MINK123M                       with p-value 0.00152554\n",
            "Add  PBYSTAND                       with p-value 0.00243579\n",
            "Add  PGEZONG                        with p-value 0.00485648\n",
            "Add  AGEZONG                        with p-value 0.00450709\n",
            "Add  MHHUUR                         with p-value 0.00630075\n",
            "resulting features:\n",
            "['PPERSAUT', 'MKOOPKLA', 'PWAPART', 'APLEZIER', 'MOPLHOOG', 'PBRAND', 'MBERBOER', 'MRELGE', 'PWALAND', 'ABRAND', 'AZEILPL', 'MINK123M', 'PBYSTAND', 'PGEZONG', 'AGEZONG', 'MHHUUR']\n",
            "16\n"
          ],
          "name": "stdout"
        }
      ]
    },
    {
      "cell_type": "markdown",
      "metadata": {
        "id": "gi5N846sBDVH"
      },
      "source": [
        "With this stepwise selection we can locate feature with significant p values which could indicate possible importance in predicting policy holders. with threshhold_in as 0.01 and threshhold_out at 0.05, we can see 15 features with significant p values that could indicate patterns of the target. "
      ]
    },
    {
      "cell_type": "code",
      "metadata": {
        "colab": {
          "base_uri": "https://localhost:8080/"
        },
        "id": "z9sszpI3Cp7M",
        "outputId": "38b4c621-9854-4d76-dc16-ae665ab8d000"
      },
      "source": [
        "X_sws = df[result]\n",
        "lrsws = LogisticRegression(random_state=0).fit(X_sws, y)\n",
        "lrsws.score(X_sws, y)"
      ],
      "execution_count": null,
      "outputs": [
        {
          "output_type": "stream",
          "text": [
            "/usr/local/lib/python3.7/dist-packages/sklearn/linear_model/_logistic.py:940: ConvergenceWarning: lbfgs failed to converge (status=1):\n",
            "STOP: TOTAL NO. of ITERATIONS REACHED LIMIT.\n",
            "\n",
            "Increase the number of iterations (max_iter) or scale the data as shown in:\n",
            "    https://scikit-learn.org/stable/modules/preprocessing.html\n",
            "Please also refer to the documentation for alternative solver options:\n",
            "    https://scikit-learn.org/stable/modules/linear_model.html#logistic-regression\n",
            "  extra_warning_msg=_LOGISTIC_SOLVER_CONVERGENCE_MSG)\n"
          ],
          "name": "stderr"
        },
        {
          "output_type": "execute_result",
          "data": {
            "text/plain": [
              "0.9402362044390145"
            ]
          },
          "metadata": {
            "tags": []
          },
          "execution_count": 24
        }
      ]
    },
    {
      "cell_type": "markdown",
      "metadata": {
        "id": "aHT6VneBDDR2"
      },
      "source": [
        "result is a similar 94% to the bese model. However as accurancy can be misleading we need to conduct more testing to varify the model."
      ]
    },
    {
      "cell_type": "code",
      "metadata": {
        "colab": {
          "base_uri": "https://localhost:8080/"
        },
        "id": "8HCjk92uDS1n",
        "outputId": "2706285f-a06e-406d-caca-466f8f591e69"
      },
      "source": [
        "pred = sum(lrsws.predict(X_sws))\n",
        "actual = sum(y)\n",
        "print(\"The number of actual holders %d vs predicted %d\" % (actual, pred))"
      ],
      "execution_count": null,
      "outputs": [
        {
          "output_type": "stream",
          "text": [
            "The number of actual holders 586 vs predicted 7\n"
          ],
          "name": "stdout"
        }
      ]
    },
    {
      "cell_type": "markdown",
      "metadata": {
        "id": "21eu4JQ5DtHt"
      },
      "source": [
        "As shown the result is poor as the model is only able to predict 1.1% of caravan insurance holders, which is worse than the original base model."
      ]
    },
    {
      "cell_type": "code",
      "metadata": {
        "colab": {
          "base_uri": "https://localhost:8080/"
        },
        "id": "y_b56JjIIfHg",
        "outputId": "f72a5af9-563f-445d-c4bd-b66907463246"
      },
      "source": [
        "X_swss = upsampled[result]\n",
        "lrswss = LogisticRegression(random_state=0).fit(X_swss, y)\n",
        "lrswss.score(X_swss, y)"
      ],
      "execution_count": null,
      "outputs": [
        {
          "output_type": "stream",
          "text": [
            "/usr/local/lib/python3.7/dist-packages/sklearn/linear_model/_logistic.py:940: ConvergenceWarning: lbfgs failed to converge (status=1):\n",
            "STOP: TOTAL NO. of ITERATIONS REACHED LIMIT.\n",
            "\n",
            "Increase the number of iterations (max_iter) or scale the data as shown in:\n",
            "    https://scikit-learn.org/stable/modules/preprocessing.html\n",
            "Please also refer to the documentation for alternative solver options:\n",
            "    https://scikit-learn.org/stable/modules/linear_model.html#logistic-regression\n",
            "  extra_warning_msg=_LOGISTIC_SOLVER_CONVERGENCE_MSG)\n"
          ],
          "name": "stderr"
        },
        {
          "output_type": "execute_result",
          "data": {
            "text/plain": [
              "0.6866608921611087"
            ]
          },
          "metadata": {
            "tags": []
          },
          "execution_count": 40
        }
      ]
    },
    {
      "cell_type": "markdown",
      "metadata": {
        "id": "ovb2CI6tIoTv"
      },
      "source": [
        "The result on the balanced data is similar to the base model."
      ]
    },
    {
      "cell_type": "code",
      "metadata": {
        "colab": {
          "base_uri": "https://localhost:8080/"
        },
        "id": "1eNEEbVWIxrh",
        "outputId": "bf65263d-aa5c-4d37-f9d3-7301ceba0752"
      },
      "source": [
        "pred = sum(lrswss.predict(X_swss))\n",
        "actual = sum(y)\n",
        "print(\"The number of actual holders %d vs predicted %d\" % (actual, pred))"
      ],
      "execution_count": null,
      "outputs": [
        {
          "output_type": "stream",
          "text": [
            "The number of actual holders 9236 vs predicted 9148\n"
          ],
          "name": "stdout"
        }
      ]
    },
    {
      "cell_type": "markdown",
      "metadata": {
        "id": "59tgFQS1I3e2"
      },
      "source": [
        "The model has underclassified and did not classify 88 policy holders correctly."
      ]
    },
    {
      "cell_type": "markdown",
      "metadata": {
        "id": "1ExpdVpkD_hh"
      },
      "source": [
        "## **III. Random Forest based on Principal component analysis feature selection**"
      ]
    },
    {
      "cell_type": "code",
      "metadata": {
        "colab": {
          "base_uri": "https://localhost:8080/"
        },
        "id": "ZKsgjoquEFmM",
        "outputId": "1596c0a8-f5ef-43e3-c3c7-2ed04ad6db97"
      },
      "source": [
        "from sklearn.decomposition import PCA\n",
        "from sklearn.ensemble import RandomForestClassifier\n",
        "from sklearn.datasets import make_classification\n",
        "\n",
        "pca = PCA()\n",
        "X_pca = pca.fit_transform(X)\n",
        "rfpca = RandomForestClassifier().fit(X_pca, y)\n",
        "rfpca.score(X_pca,y)\n"
      ],
      "execution_count": null,
      "outputs": [
        {
          "output_type": "execute_result",
          "data": {
            "text/plain": [
              "0.989660025985275"
            ]
          },
          "metadata": {
            "tags": []
          },
          "execution_count": 79
        }
      ]
    },
    {
      "cell_type": "markdown",
      "metadata": {
        "id": "c1YatGVTJj5j"
      },
      "source": [
        "The model using Random Forest based on PCA has a noticeably higher accuracy on unbalanced data.\n",
        "\n"
      ]
    },
    {
      "cell_type": "code",
      "metadata": {
        "colab": {
          "base_uri": "https://localhost:8080/"
        },
        "id": "JHYPNUB8JH9M",
        "outputId": "736a5970-2972-4986-e8ac-079b3a0790fc"
      },
      "source": [
        "pred = sum(rfpca.predict(X_pca))\n",
        "actual = sum(y)\n",
        "print(\"The number of actual holders %d vs predicted %d\" % (actual, pred))"
      ],
      "execution_count": null,
      "outputs": [
        {
          "output_type": "stream",
          "text": [
            "The number of actual holders 9236 vs predicted 9427\n"
          ],
          "name": "stdout"
        }
      ]
    },
    {
      "cell_type": "markdown",
      "metadata": {
        "id": "DKs_jKD0JkkA"
      },
      "source": [
        "The model on the unbalanced data has incorrectly classified 191 non policy holders as policy holders. But has been the first time that the models on the unbalanced data have been able to have a significant number of correct classification of policy holders."
      ]
    },
    {
      "cell_type": "code",
      "metadata": {
        "colab": {
          "base_uri": "https://localhost:8080/"
        },
        "id": "Y7mPm6qNKTAD",
        "outputId": "98b142c8-1081-44f7-bdad-07d3c759695c"
      },
      "source": [
        "X_pca_bal = pca.fit_transform(X_bal)\n",
        "rfpca = RandomForestClassifier().fit(X_pca_bal, y)\n",
        "rfpca.score(X_pca_bal,y)"
      ],
      "execution_count": null,
      "outputs": [
        {
          "output_type": "execute_result",
          "data": {
            "text/plain": [
              "0.989660025985275"
            ]
          },
          "metadata": {
            "tags": []
          },
          "execution_count": 78
        }
      ]
    },
    {
      "cell_type": "code",
      "metadata": {
        "colab": {
          "base_uri": "https://localhost:8080/"
        },
        "id": "XZKspAkkLqrc",
        "outputId": "1798aaca-6a80-416e-eebb-711b8d078f98"
      },
      "source": [
        "pred = sum(rfpca.predict(X_pca_bal))\n",
        "actual = sum(y)\n",
        "print(\"The number of actual holders %d vs predicted %d\" % (actual, pred))"
      ],
      "execution_count": null,
      "outputs": [
        {
          "output_type": "stream",
          "text": [
            "The number of actual holders 9236 vs predicted 9427\n"
          ],
          "name": "stdout"
        }
      ]
    },
    {
      "cell_type": "markdown",
      "metadata": {
        "id": "NPHwypfHL7jt"
      },
      "source": [
        "Identical results on the balanced and unbalanced data using pca and random forest."
      ]
    },
    {
      "cell_type": "markdown",
      "metadata": {
        "id": "yKfrWlCJMCY-"
      },
      "source": [
        "## **IV. Random Forest based on feature importance feature selection**"
      ]
    },
    {
      "cell_type": "code",
      "metadata": {
        "colab": {
          "base_uri": "https://localhost:8080/"
        },
        "id": "97oZ-0hrMKVO",
        "outputId": "e589dd0b-6757-43de-c972-d4799dc9df0a"
      },
      "source": [
        "from sklearn.feature_selection import SelectFromModel\n",
        "\n",
        "fifs = RandomForestClassifier(max_depth=3)\n",
        "fifs.fit(X, y)\n",
        "\n",
        "model = SelectFromModel(fifs, prefit=True)\n",
        "Xfifs = model.transform(X)\n",
        "Xfifs.shape"
      ],
      "execution_count": null,
      "outputs": [
        {
          "output_type": "execute_result",
          "data": {
            "text/plain": [
              "(18472, 19)"
            ]
          },
          "metadata": {
            "tags": []
          },
          "execution_count": 87
        }
      ]
    },
    {
      "cell_type": "markdown",
      "metadata": {
        "id": "IwGUz4jsNJaE"
      },
      "source": [
        "Using importance feature selection we were able to reduce the number of features from 87 to 19."
      ]
    },
    {
      "cell_type": "code",
      "metadata": {
        "colab": {
          "base_uri": "https://localhost:8080/"
        },
        "id": "SjIguMWQNTtj",
        "outputId": "bcefacd3-ee95-46e6-b922-e0fcc49bd3d0"
      },
      "source": [
        "rfifs = RandomForestClassifier(max_depth=3).fit(Xfifs, y)\n",
        "\n",
        "rfifs.score(Xfifs, y)"
      ],
      "execution_count": null,
      "outputs": [
        {
          "output_type": "execute_result",
          "data": {
            "text/plain": [
              "0.7040385448245994"
            ]
          },
          "metadata": {
            "tags": []
          },
          "execution_count": 88
        }
      ]
    },
    {
      "cell_type": "code",
      "metadata": {
        "colab": {
          "base_uri": "https://localhost:8080/"
        },
        "id": "qOGV2kA-PdST",
        "outputId": "8d14e6e6-0988-462e-e9ce-975ba20f9ca7"
      },
      "source": [
        "pred = sum(rfifs.predict(Xfifs))\n",
        "actual = sum(y)\n",
        "print(\"The number of actual holders %d vs predicted %d\" % (actual, pred))"
      ],
      "execution_count": null,
      "outputs": [
        {
          "output_type": "stream",
          "text": [
            "The number of actual holders 9236 vs predicted 9275\n"
          ],
          "name": "stdout"
        }
      ]
    },
    {
      "cell_type": "markdown",
      "metadata": {
        "id": "Gmm0wV2MPvjm"
      },
      "source": [
        "The model misclassified 39 non policy holders as policy holders. which is the best result out of all of the purposed models. "
      ]
    },
    {
      "cell_type": "code",
      "metadata": {
        "colab": {
          "base_uri": "https://localhost:8080/"
        },
        "id": "Up5iKAB5QEGa",
        "outputId": "38fb6a32-0d71-4387-ef65-f475f303f395"
      },
      "source": [
        "from sklearn.feature_selection import SelectFromModel\n",
        "\n",
        "fifs_bal = RandomForestClassifier(max_depth=3)\n",
        "fifs_bal.fit(X_bal, y)\n",
        "\n",
        "model = SelectFromModel(fifs_bal, prefit=True)\n",
        "Xfifs_bal = model.transform(X_bal)\n",
        "Xfifs_bal.shape"
      ],
      "execution_count": null,
      "outputs": [
        {
          "output_type": "execute_result",
          "data": {
            "text/plain": [
              "(18472, 20)"
            ]
          },
          "metadata": {
            "tags": []
          },
          "execution_count": 91
        }
      ]
    },
    {
      "cell_type": "code",
      "metadata": {
        "colab": {
          "base_uri": "https://localhost:8080/"
        },
        "id": "VP6Av0tvQSUg",
        "outputId": "b1eb641e-113b-46b2-8a5f-8dda98d04a0f"
      },
      "source": [
        "rfifs_bal = RandomForestClassifier(max_depth=3).fit(Xfifs_bal, y)\n",
        "\n",
        "rfifs_bal.score(Xfifs_bal, y)"
      ],
      "execution_count": null,
      "outputs": [
        {
          "output_type": "execute_result",
          "data": {
            "text/plain": [
              "0.7073949761801646"
            ]
          },
          "metadata": {
            "tags": []
          },
          "execution_count": 94
        }
      ]
    },
    {
      "cell_type": "code",
      "metadata": {
        "colab": {
          "base_uri": "https://localhost:8080/"
        },
        "id": "W2fysRrYQcCX",
        "outputId": "f56d2675-0067-4f33-e50c-ec929d9412b5"
      },
      "source": [
        "pred = sum(rfifs_bal.predict(Xfifs_bal))\n",
        "actual = sum(y)\n",
        "print(\"The number of actual holders %d vs predicted %d\" % (actual, pred))"
      ],
      "execution_count": null,
      "outputs": [
        {
          "output_type": "stream",
          "text": [
            "The number of actual holders 9236 vs predicted 9305\n"
          ],
          "name": "stdout"
        }
      ]
    },
    {
      "cell_type": "markdown",
      "metadata": {
        "id": "otTcwVjeQkT1"
      },
      "source": [
        "Similar but slightly less accurate results for the balanced data."
      ]
    },
    {
      "cell_type": "markdown",
      "metadata": {
        "id": "rqoS3_wXQvc0"
      },
      "source": [
        "# **Conclusion:**\n",
        "> We tested four models on their ability of being able to predict Caravan policy holders and non policy holders, based on a relatively large number of features. Most of the models performed well on classifing non policy holders but failed to perform well on correctly classifing policy holders. the same models done on the balanced data resulted in a seemingly oposite effect as the accuracy of classifing policy holders was higher than the non policy holders. These in accuracies can be accounted for by the unbalanced nature of the data labels as there were far more non policy holders than holders in the data. In such a case where there exists a skewness in the data. better measurements exist such as recall and percison in order to better underestand and measure the performance of the models."
      ]
    }
  ]
}